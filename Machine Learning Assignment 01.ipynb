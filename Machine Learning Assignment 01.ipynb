{
 "cells": [
  {
   "cell_type": "markdown",
   "id": "a4eee5fe",
   "metadata": {},
   "source": [
    "# Machine Learning Assignment 01"
   ]
  },
  {
   "cell_type": "code",
   "execution_count": null,
   "id": "6c4bb162",
   "metadata": {},
   "outputs": [],
   "source": [
    "1. What does one mean by the term \"machine learning\" ?"
   ]
  },
  {
   "cell_type": "code",
   "execution_count": null,
   "id": "dcc0eaa9",
   "metadata": {},
   "outputs": [],
   "source": [
    "Ans: Machine learning Popularly known as ML is a branch of Artificial Intelligence (AI) that allows software applications\n",
    "    to become more accurate at predicting outcomes without being explicitly programmed to do so. Machine learning \n",
    "    algorithms use historical data as input to predict new output values."
   ]
  },
  {
   "cell_type": "code",
   "execution_count": null,
   "id": "d13de49c",
   "metadata": {},
   "outputs": [],
   "source": [
    "2.Can you think of 4 distinct types of issues where it shines ?"
   ]
  },
  {
   "cell_type": "code",
   "execution_count": null,
   "id": "418a8200",
   "metadata": {},
   "outputs": [],
   "source": [
    "Ans: The following are some of the issues where Machine Learning can be used:\n",
    "    a. Image Recognition\n",
    "    b. Speech Recognition\n",
    "    c. Traffic prediction\n",
    "    d. Product recommendations"
   ]
  },
  {
   "cell_type": "code",
   "execution_count": null,
   "id": "d15f196c",
   "metadata": {},
   "outputs": [],
   "source": [
    "3.What is a labeled training set, and how does it work ?"
   ]
  },
  {
   "cell_type": "code",
   "execution_count": null,
   "id": "4aee208c",
   "metadata": {},
   "outputs": [],
   "source": [
    "Ans: You split up the data containing known response variable values into two pieces. The training set is used to train\n",
    "    the algorithm, and then you use the trained model on the test set to predict the response variable values that are\n",
    "    already known."
   ]
  },
  {
   "cell_type": "code",
   "execution_count": null,
   "id": "1f55245c",
   "metadata": {},
   "outputs": [],
   "source": [
    "4.What are the two most important tasks that are supervised ?"
   ]
  },
  {
   "cell_type": "code",
   "execution_count": null,
   "id": "0c1c46c4",
   "metadata": {},
   "outputs": [],
   "source": [
    "Ans: The two most common supervised learning tasks are Regression and Classification."
   ]
  },
  {
   "cell_type": "code",
   "execution_count": null,
   "id": "0c8c2407",
   "metadata": {},
   "outputs": [],
   "source": [
    "5.Can you think of four examples of unsupervised tasks ?"
   ]
  },
  {
   "cell_type": "code",
   "execution_count": null,
   "id": "873de4b7",
   "metadata": {},
   "outputs": [],
   "source": [
    "Ans: Four common Unsupervised Tasks included Clustering, Visualization, Dimensionality Reduction, and Association \n",
    "    Rule Learning."
   ]
  },
  {
   "cell_type": "code",
   "execution_count": null,
   "id": "d91c9dc8",
   "metadata": {},
   "outputs": [],
   "source": [
    "6.State the machine learning model that would be best to make a robot walk through various unfamiliar terrains ?"
   ]
  },
  {
   "cell_type": "code",
   "execution_count": null,
   "id": "c3b917a3",
   "metadata": {},
   "outputs": [],
   "source": [
    "Ans: The best Machine Learning algorithm to allow a Robot to walk in unfamiliar terrains is Reinforced Learning,\n",
    "    where the robot can learn from response of the terrain to optimize itself."
   ]
  },
  {
   "cell_type": "code",
   "execution_count": null,
   "id": "492657ee",
   "metadata": {},
   "outputs": [],
   "source": [
    "7.Which algorithm will you use to divide your customers into different groups ?"
   ]
  },
  {
   "cell_type": "code",
   "execution_count": null,
   "id": "16eb476d",
   "metadata": {},
   "outputs": [],
   "source": [
    "Ans: The Best Algorithm to Segment Customers into different groups is either Supervised Learning (if the groups have known \n",
    "     labels) or Unsupervised Learning (if there are no group labels)."
   ]
  },
  {
   "cell_type": "code",
   "execution_count": null,
   "id": "90ebb0c1",
   "metadata": {},
   "outputs": [],
   "source": [
    "8.Will you consider the problem of spam detection to be a supervised or unsupervised learning problem ?"
   ]
  },
  {
   "cell_type": "code",
   "execution_count": null,
   "id": "a0bc078d",
   "metadata": {},
   "outputs": [],
   "source": [
    "Ans: Spam detection is a Supervised Machine Learning problem because the labels are known (spam or no spam)."
   ]
  },
  {
   "cell_type": "code",
   "execution_count": null,
   "id": "e69570ab",
   "metadata": {},
   "outputs": [],
   "source": [
    "9.What is the concept of an online learning system ?"
   ]
  },
  {
   "cell_type": "code",
   "execution_count": null,
   "id": "f5763ab8",
   "metadata": {},
   "outputs": [],
   "source": [
    "Ans: Online learning system is a learning system in which the machine learns continously, as data is given in small\n",
    "    streams continuously."
   ]
  },
  {
   "cell_type": "code",
   "execution_count": null,
   "id": "341318f2",
   "metadata": {},
   "outputs": [],
   "source": [
    "10.What is out-of-core learning, and how does it differ from core learning ?"
   ]
  },
  {
   "cell_type": "code",
   "execution_count": null,
   "id": "180b184f",
   "metadata": {},
   "outputs": [],
   "source": [
    "Ans: Out-of-core learning system is a system that can handle data that cannot fit into your computer memory. \n",
    "    It uses online learning system to feed data in small bits."
   ]
  },
  {
   "cell_type": "code",
   "execution_count": null,
   "id": "a77a99d1",
   "metadata": {},
   "outputs": [],
   "source": [
    "11.What kind of learning algorithm makes predictions using a similarity measure ?"
   ]
  },
  {
   "cell_type": "code",
   "execution_count": null,
   "id": "bb953d32",
   "metadata": {},
   "outputs": [],
   "source": [
    "Ans: Learning algorithm that relies on a similarity measure to make predictions is Instance Based Algorithm."
   ]
  },
  {
   "cell_type": "code",
   "execution_count": null,
   "id": "9955cd55",
   "metadata": {},
   "outputs": [],
   "source": [
    "12.What's the difference between a model parameter and a hyperparameter in a learning algorithm ?"
   ]
  },
  {
   "cell_type": "code",
   "execution_count": null,
   "id": "193a7a23",
   "metadata": {},
   "outputs": [],
   "source": [
    "Ans: Model parameter determines how a model will predict given a new instance. Model usually has more than one parameter\n",
    "    (i.e. slope of a linear model). Hyperparameter is a parameter for the learning algorithm, not of a model."
   ]
  },
  {
   "cell_type": "code",
   "execution_count": null,
   "id": "4b013be0",
   "metadata": {},
   "outputs": [],
   "source": [
    "13.What are the criteria that model-based learning algorithms look for? What is the most popular method they use to achieve\n",
    "success? What method do they use to make predictions ?"
   ]
  },
  {
   "cell_type": "code",
   "execution_count": null,
   "id": "8858edc9",
   "metadata": {},
   "outputs": [],
   "source": [
    "Ans: Model based learning algorithm search for the optimal value of parameters in a model that will give the best results \n",
    "    for the new instances. We often use a cost function or similar to determine what the parameter value has to be in order\n",
    "    to minimize the function. The model makes prediction by using the value of the new instance and the parameters in its \n",
    "    function."
   ]
  },
  {
   "cell_type": "code",
   "execution_count": null,
   "id": "b65c912b",
   "metadata": {},
   "outputs": [],
   "source": [
    "14.Can you name four of the most important Machine Learning challenges ?"
   ]
  },
  {
   "cell_type": "code",
   "execution_count": null,
   "id": "ff4ec3f0",
   "metadata": {},
   "outputs": [],
   "source": [
    "Ans: Four main challenges in Machine Learning include the following:\n",
    "\n",
    "Overfitting the Data (using a model too complicated)\n",
    "Underfitting the data (using a simple model)\n",
    "Lacking in Data\n",
    "Non Representative Data."
   ]
  },
  {
   "cell_type": "code",
   "execution_count": null,
   "id": "88d95a28",
   "metadata": {},
   "outputs": [],
   "source": [
    "15.What happens if the model performs well on the training data but fails to generalize the results to new situations? \n",
    "Can you think of three different options ?"
   ]
  },
  {
   "cell_type": "code",
   "execution_count": null,
   "id": "3e7f0362",
   "metadata": {},
   "outputs": [],
   "source": [
    "Ans: If the model performs poorly to new instances, then it has overfitted on the training data. To solve this, we can do\n",
    "    any of the following three:\n",
    "    Get more data\n",
    "    Implement a simpler model\n",
    "    Eliminate outliers or noise from the existing data set."
   ]
  },
  {
   "cell_type": "code",
   "execution_count": null,
   "id": "05d95fbd",
   "metadata": {},
   "outputs": [],
   "source": [
    "16.What exactly is a test set, and why would you need one ?"
   ]
  },
  {
   "cell_type": "code",
   "execution_count": null,
   "id": "4bf336aa",
   "metadata": {},
   "outputs": [],
   "source": [
    "Ans: Test set is a set to test your model (fit using training data) to see how it performs.\n",
    "    Test set is necessary to determine how good (or bad) a model performs."
   ]
  },
  {
   "cell_type": "code",
   "execution_count": null,
   "id": "b8163720",
   "metadata": {},
   "outputs": [],
   "source": [
    "17.What is a validation set's purpose ?"
   ]
  },
  {
   "cell_type": "code",
   "execution_count": null,
   "id": "5ef2f5b9",
   "metadata": {},
   "outputs": [],
   "source": [
    "Ans: Validation set is a set used to compare between different training models."
   ]
  },
  {
   "cell_type": "code",
   "execution_count": null,
   "id": "7966e79b",
   "metadata": {},
   "outputs": [],
   "source": [
    "18.What precisely is the train-dev kit, when will you need it, how do you put it to use ?"
   ]
  },
  {
   "cell_type": "code",
   "execution_count": null,
   "id": "c4dfc885",
   "metadata": {},
   "outputs": [],
   "source": [
    "Ans: Cross-validation is a tool to compare models without needing a separate validation set. It is preferred over \n",
    "    validation set because we can save from breaking of part of the training set to create a validation set, as having\n",
    "    more data is valuable regardless."
   ]
  },
  {
   "cell_type": "code",
   "execution_count": null,
   "id": "0ab449ef",
   "metadata": {},
   "outputs": [],
   "source": [
    "19.What could go wrong if you use the test set to tune hyperparameters ?"
   ]
  },
  {
   "cell_type": "code",
   "execution_count": null,
   "id": "37e5a442",
   "metadata": {},
   "outputs": [],
   "source": [
    "Ans: If you tune hyperparameters using the test sets, then it may not perform well on the out-of-sample data because\n",
    "    the model is tuned just for that specific set."
   ]
  }
 ],
 "metadata": {
  "kernelspec": {
   "display_name": "Python 3 (ipykernel)",
   "language": "python",
   "name": "python3"
  },
  "language_info": {
   "codemirror_mode": {
    "name": "ipython",
    "version": 3
   },
   "file_extension": ".py",
   "mimetype": "text/x-python",
   "name": "python",
   "nbconvert_exporter": "python",
   "pygments_lexer": "ipython3",
   "version": "3.9.12"
  }
 },
 "nbformat": 4,
 "nbformat_minor": 5
}
