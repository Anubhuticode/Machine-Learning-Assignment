{
 "cells": [
  {
   "cell_type": "markdown",
   "id": "3e44bd3a",
   "metadata": {},
   "source": [
    "# Machine Learning Assignment 02"
   ]
  },
  {
   "cell_type": "code",
   "execution_count": null,
   "id": "ee03ad75",
   "metadata": {},
   "outputs": [],
   "source": [
    "1. What is the concept of human learning? Please give two examples ?"
   ]
  },
  {
   "cell_type": "code",
   "execution_count": null,
   "id": "177d4af2",
   "metadata": {},
   "outputs": [],
   "source": [
    "Ans: Human learning is the form of learning which requires higher order mental processes like thinking, reasoning, \n",
    "    intelligence, etc.We learn different concepts from childhood. For example:\n",
    "\n",
    "Learning through Association - Classical Conditioning.\n",
    "Learning through consequences – Operant Conditioning.\n",
    "Learning through observation – Modeling/Observational Learning."
   ]
  },
  {
   "cell_type": "code",
   "execution_count": null,
   "id": "66ae0fd9",
   "metadata": {},
   "outputs": [],
   "source": [
    "2. What different forms of human learning are there? Are there any machine learning equivalents ?"
   ]
  },
  {
   "cell_type": "code",
   "execution_count": null,
   "id": "f8592149",
   "metadata": {},
   "outputs": [],
   "source": [
    "Ans: Different Forms of ML are as follows :\n",
    "\n",
    "Artificial Intelligence Learning Theories. Machine Learning. Reinforcement Learning. Supervised Learning. Unsupervised\n",
    "Learning.\n",
    "ML equivalents like Linear regression, decision trees, random forest and support vector machines are some commonly used \n",
    "techniques that are actually examples of supervised learning."
   ]
  },
  {
   "cell_type": "code",
   "execution_count": null,
   "id": "39725a55",
   "metadata": {},
   "outputs": [],
   "source": [
    "3. What is machine learning, and how does it work? What are the key responsibilities of machine learning ?"
   ]
  },
  {
   "cell_type": "code",
   "execution_count": null,
   "id": "819c297c",
   "metadata": {},
   "outputs": [],
   "source": [
    "Ans: Machine learning is a branch of Artificial intelligence (AI) that teaches computers on how to think in a similar way \n",
    "    to how humans do, like by Learning and improving upon past experiences.\n",
    "\n",
    "    It works by exploring data and identifying patterns, and involves minimal human intervention.\n",
    "    Roles and responsibilities of a machine learning engineer are:\n",
    "\n",
    "    Designing ML systems.\n",
    "    Researching and implementing ML algorithms and tools. Selecting appropriate data sets.\n",
    "    Picking appropriate data representation methods. Identifying differences in data distribution that affects model \n",
    "    performance. Verifying data quality."
   ]
  },
  {
   "cell_type": "code",
   "execution_count": null,
   "id": "a7ca81b3",
   "metadata": {},
   "outputs": [],
   "source": [
    "4. Define the terms \"penalty\" and \"reward\" in the context of reinforcement learning ?"
   ]
  },
  {
   "cell_type": "code",
   "execution_count": null,
   "id": "86b150b5",
   "metadata": {},
   "outputs": [],
   "source": [
    "Ans: A Reinforcement Learning Algorithm, which may also be referred to as an agent, learns by interacting with its\n",
    "    environment. The agent receives rewards by performing correctly and penalties for performing incorrectly. \n",
    "    The agent learns without intervention from a human by maximizing its reward and minimizing its penalty."
   ]
  },
  {
   "cell_type": "code",
   "execution_count": null,
   "id": "1a563f43",
   "metadata": {},
   "outputs": [],
   "source": [
    "5. Explain the term \"learning as a search\" ?"
   ]
  },
  {
   "cell_type": "code",
   "execution_count": null,
   "id": "4d845340",
   "metadata": {},
   "outputs": [],
   "source": [
    "Ans: Learning can be viewed as a search through the space of all sentences in a concept description language for a sentence\n",
    "    that best describes the data. Alternatively, it can be viewed as a search through all hypotheses in a hypothesis space."
   ]
  },
  {
   "cell_type": "code",
   "execution_count": null,
   "id": "771515ce",
   "metadata": {},
   "outputs": [],
   "source": [
    "6. What are the various goals of machine learning? What is the relationship between these and human learning ?"
   ]
  },
  {
   "cell_type": "code",
   "execution_count": null,
   "id": "a217aea6",
   "metadata": {},
   "outputs": [],
   "source": [
    "Ans: The Goal of machine learning, closely coupled with the goal of AI, is to achieve a through understanding about the\n",
    "    nature of learning process (both human learning and other forms of learning), about the computational aspects of \n",
    "    learning behaviors, and to implant the learning capability in computer systems.\n",
    "\n",
    "Humans have the ability to learn, however with the progress in artificial intelligence, machine learning has \n",
    "become a resource which can augment or even replace human learning. Learning does not happen all at once, but it\n",
    "builds upon and is shaped by previous knowledge."
   ]
  },
  {
   "cell_type": "code",
   "execution_count": null,
   "id": "03f38ff6",
   "metadata": {},
   "outputs": [],
   "source": [
    "7. Illustrate the various elements of machine learning using a real-life illustration ?"
   ]
  },
  {
   "cell_type": "code",
   "execution_count": null,
   "id": "1abf53a9",
   "metadata": {},
   "outputs": [],
   "source": [
    "Ans: The Various elements of the the Machine Learning are:\n",
    "\n",
    "Data\n",
    "Task\n",
    "Model\n",
    "Loss Function\n",
    "Learning Algorithm\n",
    "Evaluation"
   ]
  },
  {
   "cell_type": "code",
   "execution_count": null,
   "id": "4b00c4ad",
   "metadata": {},
   "outputs": [],
   "source": [
    "8. Provide an example of the abstraction method ?"
   ]
  },
  {
   "cell_type": "code",
   "execution_count": null,
   "id": "9a64f45d",
   "metadata": {},
   "outputs": [],
   "source": [
    "Ans: In Machine Learning, Abstraction is supported primarily at the level of modules. This can be justified in two ways:\n",
    "        first, Data abstraction is mostly a question of program interfaces and therefore it arises naturally at the point\n",
    "        where we have to consider program composition and modules."
   ]
  },
  {
   "cell_type": "code",
   "execution_count": null,
   "id": "06f5592a",
   "metadata": {},
   "outputs": [],
   "source": [
    "9. What is the concept of generalization? What function does it play in the machine learning process ?"
   ]
  },
  {
   "cell_type": "code",
   "execution_count": null,
   "id": "ce939b62",
   "metadata": {},
   "outputs": [],
   "source": [
    "Ans: Generalization refers to your model's ability to adapt properly to new, previously unseen data, drawn from the \n",
    "    same distribution as the one used to create the model.\n",
    "\n",
    "In machine learning, generalization is a definition to demonstrate how well is a trained model to classify or\n",
    "forecast unseen data.This issue can result to classify an actual dog image as a cat from the unseen dataset.\n",
    "Therefore, data diversity is very important factor in order to make a good prediction."
   ]
  },
  {
   "cell_type": "code",
   "execution_count": null,
   "id": "61996d3f",
   "metadata": {},
   "outputs": [],
   "source": [
    "10. What is classification, exactly? What are the main distinctions between classification and regression ?"
   ]
  },
  {
   "cell_type": "code",
   "execution_count": null,
   "id": "72047b41",
   "metadata": {},
   "outputs": [],
   "source": [
    "Ans: In Machine Learning, Classification refers to a predictive modeling problem where a class label is predicted for\n",
    "    a given example of input data.Classification is the task of predicting a discrete class label. \n",
    "    Whereas Regression is the task of predicting a continuous quantity."
   ]
  },
  {
   "cell_type": "code",
   "execution_count": null,
   "id": "0f8ec557",
   "metadata": {},
   "outputs": [],
   "source": [
    "11. What is regression, and how does it work? Give an example of a real-world problem that was solved using regression ?"
   ]
  },
  {
   "cell_type": "code",
   "execution_count": null,
   "id": "5c9c7ab7",
   "metadata": {},
   "outputs": [],
   "source": [
    "Ans: Regression is a Supervised Machine Learning technique which is used to predict continuous values. The ultimate goal of\n",
    "    a regression algorithm is to plot a best-fit line or a curve between the data.\n",
    "    The three main metrics that are used for evaluating the trained regression model are Variance, Bias and Error."
   ]
  },
  {
   "cell_type": "code",
   "execution_count": null,
   "id": "e974124f",
   "metadata": {},
   "outputs": [],
   "source": [
    "12. Describe the clustering mechanism in detail ?"
   ]
  },
  {
   "cell_type": "code",
   "execution_count": null,
   "id": "59195c7e",
   "metadata": {},
   "outputs": [],
   "source": [
    "Ans: Clustering is the task of dividing the population or data points into a number of groups such that data points in \n",
    "    the same groups are more similar to other data points in the same group than those in other groups. In simple words, \n",
    "    the aim is to segregate groups with similar traits and assign them into clusters."
   ]
  },
  {
   "cell_type": "code",
   "execution_count": null,
   "id": "5eda2e95",
   "metadata": {},
   "outputs": [],
   "source": [
    "13. Make brief observations on two of the following topics ?\n",
    "Machine learning algorithms are used\n",
    "Studying under supervision\n",
    "Studying without supervision\n",
    "Reinforcement learning is a form of learning based on positive reinforcement."
   ]
  },
  {
   "cell_type": "code",
   "execution_count": null,
   "id": "b2b483ea",
   "metadata": {},
   "outputs": [],
   "source": [
    "Ans: Machine learning algorithms are used: At its Most basic, Machine Learning uses programmed algorithms that receive and \n",
    "    analyse input data to predict output values within an acceptable range. As new data is fed to these algorithms, they\n",
    "    learn and optimise their operations to improve performance, developing intelligence over time."
   ]
  },
  {
   "cell_type": "code",
   "execution_count": null,
   "id": "37eef153",
   "metadata": {},
   "outputs": [],
   "source": [
    "Studying Under Supervision: In machine learning, there are two important categories- Supervised and Unsupervised learning.\n",
    "    Supervised learning, an algorithm learns from a training dataset. We know the correct answers or desired output, the \n",
    "    algorithm makes predictions using the given dataset and is corrected by the “supervisor”."
   ]
  },
  {
   "cell_type": "code",
   "execution_count": null,
   "id": "df64e5ab",
   "metadata": {},
   "outputs": [],
   "source": [
    "Studying without supervision:Unsupervised learning does not need any supervision. Instead, it finds patterns from the\n",
    "    data by its own. Unsupervised learning can be used for two types of problems: Clustering and Association."
   ]
  },
  {
   "cell_type": "code",
   "execution_count": null,
   "id": "308dd9e5",
   "metadata": {},
   "outputs": [],
   "source": [
    "Reinforcement learning is a form of learning based on positive reinforcement:\n",
    "    Reinforcement learning is a machine learning training method based on rewarding desired behaviors and/or punishing \n",
    "    undesired ones. In general, a reinforcement learning agent is able to perceive and interpret its environment, take \n",
    "    actions and learn through trial and error."
   ]
  }
 ],
 "metadata": {
  "kernelspec": {
   "display_name": "Python 3 (ipykernel)",
   "language": "python",
   "name": "python3"
  },
  "language_info": {
   "codemirror_mode": {
    "name": "ipython",
    "version": 3
   },
   "file_extension": ".py",
   "mimetype": "text/x-python",
   "name": "python",
   "nbconvert_exporter": "python",
   "pygments_lexer": "ipython3",
   "version": "3.9.12"
  }
 },
 "nbformat": 4,
 "nbformat_minor": 5
}
