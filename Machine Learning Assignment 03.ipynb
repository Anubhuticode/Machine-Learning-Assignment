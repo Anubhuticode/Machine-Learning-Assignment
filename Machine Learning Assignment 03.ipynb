{
 "cells": [
  {
   "cell_type": "markdown",
   "id": "5d4a62cf",
   "metadata": {},
   "source": [
    "# Machine Learning Assignment 03"
   ]
  },
  {
   "cell_type": "code",
   "execution_count": null,
   "id": "ebcefb4e",
   "metadata": {},
   "outputs": [],
   "source": [
    "1.Explain the term machine learning, and how does it work? Explain two machine learning applications in the business world.\n",
    "What are some of the ethical concerns that machine learning applications could raise ?"
   ]
  },
  {
   "cell_type": "code",
   "execution_count": null,
   "id": "98283a1c",
   "metadata": {},
   "outputs": [],
   "source": [
    "Ans: Machine Learning is a form of artificial intelligence (AI) that teaches computers to think in a similar way to how \n",
    "    humans do: Learning and improving upon past experiences. It works by exploring data and identifying patterns, and \n",
    "        involves minimal human intervention.\n",
    "\n",
    "There are various applications in Business World :\n",
    "Real-time chatbot agents.\n",
    "Decision support.\n",
    "Customer recommendation engines.\n",
    "Customer churn modeling.\n",
    "Dynamic pricing tactics.\n",
    "Market research and customer segmentation.\n",
    "Fraud detection."
   ]
  },
  {
   "cell_type": "code",
   "execution_count": null,
   "id": "7763f761",
   "metadata": {},
   "outputs": [],
   "source": [
    "2. Describe the process of human learning ?\n",
    "Under the supervision of experts\n",
    "With the assistance of experts in an indirect manner\n",
    "Self-education"
   ]
  },
  {
   "cell_type": "code",
   "execution_count": null,
   "id": "be3221dc",
   "metadata": {},
   "outputs": [],
   "source": [
    "Ans: The processes of Human learning are described below:\n",
    "\n",
    "Under the supervision of experts: Human-guided machine learning is a process whereby subject matter experts accelerate the\n",
    "    learning process by teaching the technology in real-time. For example, if the machine learning model comes across a \n",
    "    piece of data it is uncertain about, a human can be asked to weigh in and give feedback. The model then learns from \n",
    "    this input, and uses it to make a more accurate prediction the next time. Human-guided machine learning works from the\n",
    "    bottom up by first using algorithms to conduct the heavy lifting of identifying relationships within the data, and \n",
    "    engaging humans when necessary for training or validation Concept Learning.\n",
    "\n",
    "With the assistance of experts in an indirect manner: Well The process of an algorithm learning from the training \n",
    "    dataset can be thought of as a teacher supervising the learning process. We know the correct answers, the algorithm \n",
    "    iteratively makes predictions on the training data and is corrected by the teacher. Learning stops when the algorithm \n",
    "    achieves an acceptable level of performance Operant Conditioning.\n",
    "\n",
    "Self education: Ability to recognize patterns, learn from data, and become more intelligent over time (can be AI or \n",
    "    programmatically based).Machine Learning: AI systems with ability to automatically learn and improve from experience \n",
    "    without being explicitly programmed via training Hebbian Learning."
   ]
  },
  {
   "cell_type": "code",
   "execution_count": null,
   "id": "708e4175",
   "metadata": {},
   "outputs": [],
   "source": [
    "3. Provide a few examples of various types of machine learning ?"
   ]
  },
  {
   "cell_type": "code",
   "execution_count": null,
   "id": "0eccca21",
   "metadata": {},
   "outputs": [],
   "source": [
    "Ans: Examples of Various types of Machine Learning techniques are:\n",
    "\n",
    "Example of Supervised Learning is text classification problems. In this set of problems, the goal is to predict the\n",
    "class label of a given piece of text. One particularly popular topic in text classification is to predict the sentiment\n",
    "of a piece of text, like a tweet or a product review,Image segmentation, Medical Diagnosis\n",
    "\n",
    "Example of Unsupervised Learning : Fraud detection, Malware detection, Anomaly detection, Clustering Analysis, \n",
    "    Identification of human errors during data entry Conducting accurate basket analysis, etc.\n",
    "\n",
    "Example of Reinforcement Learning : Applications in self-driving cars, Industry automation : learning-based robots \n",
    "        are used to perform various tasks."
   ]
  },
  {
   "cell_type": "code",
   "execution_count": null,
   "id": "e7a728df",
   "metadata": {},
   "outputs": [],
   "source": [
    "4. Examine the various forms of machine learning ?"
   ]
  },
  {
   "cell_type": "code",
   "execution_count": null,
   "id": "3d0b240d",
   "metadata": {},
   "outputs": [],
   "source": [
    "Ans: These are three types of Machine Learning Techniques:\n",
    "\n",
    "Supervised Learning\n",
    "Unsupervised Learning\n",
    "Reinforcement Learning."
   ]
  },
  {
   "cell_type": "code",
   "execution_count": null,
   "id": "34fe11b7",
   "metadata": {},
   "outputs": [],
   "source": [
    "5. Can you explain what a well-posed learning problem is? Explain the main characteristics that must be present to \n",
    "identify a learning problem properly ?"
   ]
  },
  {
   "cell_type": "code",
   "execution_count": null,
   "id": "f5d8fac8",
   "metadata": {},
   "outputs": [],
   "source": [
    "Ans: Well Posed Learning Problem – A computer program is said to learn from experience E in context to some task T and \n",
    "    some performance measure P, if its performance on T, as was measured by P, upgrades with experience E.Any problem can\n",
    "    be segregated as well-posed learning problem if it has three traits – Task, Performance and Experience."
   ]
  },
  {
   "cell_type": "code",
   "execution_count": null,
   "id": "73bccb71",
   "metadata": {},
   "outputs": [],
   "source": [
    "6. Is machine learning capable of solving all problems? Give a detailed explanation of your answer ?"
   ]
  },
  {
   "cell_type": "code",
   "execution_count": null,
   "id": "57ac1cea",
   "metadata": {},
   "outputs": [],
   "source": [
    "Ans: Machine Learning probably can run into all problems for solving but lays down with some concerns which are:\n",
    "\n",
    "Ethics: The idea of trusting data and algorithms more than our own judgment has its pros and cons.Obviously, we benefit\n",
    "    from these algorithms, otherwise, we wouldn’t be using them in the first place. These algorithms allow us to automate\n",
    "    processes by making informed judgments using available data. Sometimes, however, this means replacing someone’s job\n",
    "    with an algorithm, which comes with ethical ramifications.\n",
    "\n",
    "Deterministic Problem: Machine learning is stochastic, not deterministic. A neural network does not understand Newton’s\n",
    "    second law, or that density cannot be negative — there are no physical constraints.\n",
    "\n",
    "Lack of Data: Many machine learning algorithms require large amounts of data before they begin to give useful results."
   ]
  },
  {
   "cell_type": "code",
   "execution_count": null,
   "id": "94d77138",
   "metadata": {},
   "outputs": [],
   "source": [
    "7. What are the various methods and technologies for solving machine learning problems? Any two of them should be \n",
    "defined in detail ?"
   ]
  },
  {
   "cell_type": "code",
   "execution_count": null,
   "id": "edb0db09",
   "metadata": {},
   "outputs": [],
   "source": [
    "Ans: The Various Technologies Used in Machine Learning Problems are: Scikit Learn, Pytorch, Tensorflow, Keras, Python.\n",
    "\n",
    "Scikit Learn: Scikit-learn (Sklearn) is the most useful and robust library for machine learning in Python. It provides a \n",
    "    selection of efficient tools for machine learning and statistical modeling including classification, Regression,\n",
    "    clustering and dimensionality reduction via a consistence interface in Python.\n",
    "Tensorflow: It is a open source artificial intelligence library, Using data flow graphs to build models.\n",
    "    It allows developers to create large-scale neural networks with many layers. TensorFlow is mainly used for:\n",
    "        Classification, Perception, Understanding, Discovering, Prediction and Creation."
   ]
  },
  {
   "cell_type": "code",
   "execution_count": null,
   "id": "3744c86d",
   "metadata": {},
   "outputs": [],
   "source": [
    "8. Can you explain the various forms of supervised learning? Explain each one with an example application ?"
   ]
  },
  {
   "cell_type": "code",
   "execution_count": null,
   "id": "e54e779c",
   "metadata": {},
   "outputs": [],
   "source": [
    "Ans The various forms of supervised learning are explained in detail below:\n",
    "\n",
    "Regression: In regression, a single output value is produced using training data.For example, regression can help predict\n",
    "    the price of a house based on its locality, size, etc.\n",
    "Classification: It involves grouping the data into classes.eg. If you are thinking of extending credit to a person, you can\n",
    "    use classification to determine whether or not a person would be a loan defaulter.\n",
    "Naive Bayesian Model: The Bayesian model of classification is used for large finite datasets. It is a method of assigning\n",
    "    class labels using a direct acyclic graph.\n",
    "Decision Trees: A decision tree is a flowchart-like model that contains conditional control statements, comprising\n",
    "    decisions and their probable consequences. The output relates to the labelling of unforeseen data."
   ]
  },
  {
   "cell_type": "code",
   "execution_count": null,
   "id": "9738cdd0",
   "metadata": {},
   "outputs": [],
   "source": [
    "9. What is the difference between supervised and unsupervised learning? With a sample application in each region, \n",
    "explain the differences ?"
   ]
  },
  {
   "cell_type": "code",
   "execution_count": null,
   "id": "49b97882",
   "metadata": {},
   "outputs": [],
   "source": [
    "Ans: Supervised earning algorithms are trained using labeled data. Unsupervised learning algorithms are trained using \n",
    "    unlabeled data.In unsupervised learning, only input data is provided to the model.\n",
    "Examples:\n",
    "Supervised Learning : Classification and Regression.\n",
    "Unsuperised Learning : Clustering."
   ]
  },
  {
   "cell_type": "code",
   "execution_count": null,
   "id": "c194095f",
   "metadata": {},
   "outputs": [],
   "source": [
    "10. Describe the machine learning process in depth ?\n",
    "Make brief notes on any two of the following:\n",
    "MATLAB is one of the most widely used programming languages.\n",
    "Deep learning applications in healthcare\n",
    "Study of the market basket\n",
    "Linear regression (simple)"
   ]
  },
  {
   "cell_type": "code",
   "execution_count": null,
   "id": "b316c9ba",
   "metadata": {},
   "outputs": [],
   "source": [
    "Deep learning applications in healthcare: Deep learning provides the healthcare industry with the ability to analyze data\n",
    "    at exceptional speeds without compromising on accuracy. It’s not machine learning, nor is it AI, it’s an elegant blend \n",
    "    of both that uses a layered algorithmic architecture to sift through data at an astonishing rate. The benefits of deep\n",
    "    learning in healthcare are plentiful – fast, efficient, accurate – but they don’t stop there. Even more benefits lie \n",
    "    within the neural networks formed by multiple layers of AI and ML and their ability to learn. Yes, the secret to deep \n",
    "    learning’s success is in the name – learning."
   ]
  },
  {
   "cell_type": "code",
   "execution_count": null,
   "id": "6d3d3ceb",
   "metadata": {},
   "outputs": [],
   "source": [
    "Linear regression (simple): Linear Regression models describe the relationship between variables by fitting a line to the\n",
    "    observed data. Linear regression models use a straight line, while logistic and nonlinear regression models use a \n",
    "    curved line. Regression allows you to estimate how a dependent variable changes as the independent variable(s) change"
   ]
  },
  {
   "cell_type": "code",
   "execution_count": null,
   "id": "bcfb07a9",
   "metadata": {},
   "outputs": [],
   "source": [
    "11. Make a comparison between:-\n",
    "Generalization and abstraction\n",
    "Learning that is guided and unsupervised\n",
    "Regression and classification"
   ]
  },
  {
   "cell_type": "code",
   "execution_count": null,
   "id": "d090fc7c",
   "metadata": {},
   "outputs": [],
   "source": [
    "Ans: The differences between among the given concepts is:\n",
    "        Generalization and abstraction: Abstraction is the process of removing details of objects.\n",
    "        Learning that is guided and Unsupervised: Supervised learning is the method that trains machines to use data \n",
    "            that is well classified and labeled.   \n",
    "            \n",
    "        Regression and classification:\n",
    "            \n",
    "        Classification Models – Classification models are used for problems where the output variable can be categorized, \n",
    "        such as Yes or No, or Pass or Fail    \n",
    "        Regression Models – Regression models are used for problems where the output variable is a real value such as a \n",
    "        unique number, dollars, salary."
   ]
  }
 ],
 "metadata": {
  "kernelspec": {
   "display_name": "Python 3 (ipykernel)",
   "language": "python",
   "name": "python3"
  },
  "language_info": {
   "codemirror_mode": {
    "name": "ipython",
    "version": 3
   },
   "file_extension": ".py",
   "mimetype": "text/x-python",
   "name": "python",
   "nbconvert_exporter": "python",
   "pygments_lexer": "ipython3",
   "version": "3.9.12"
  }
 },
 "nbformat": 4,
 "nbformat_minor": 5
}
