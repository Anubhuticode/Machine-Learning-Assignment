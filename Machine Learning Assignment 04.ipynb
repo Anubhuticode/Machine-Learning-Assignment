{
 "cells": [
  {
   "cell_type": "markdown",
   "id": "ddf4e13f",
   "metadata": {},
   "source": [
    "# Machine Learning Assignment 04"
   ]
  },
  {
   "cell_type": "code",
   "execution_count": null,
   "id": "73a9a916",
   "metadata": {},
   "outputs": [],
   "source": [
    "1. What are the key tasks involved in getting ready to work with machine learning modeling ?"
   ]
  },
  {
   "cell_type": "code",
   "execution_count": null,
   "id": "5bf2b412",
   "metadata": {},
   "outputs": [],
   "source": [
    "Ans: The Key Tasks involved in getting ready to work with Machine learning Modelling are:\n",
    "Data collection: Defining the problem and assembling a dataset.\n",
    "Data preparation: Preparing your data.\n",
    "Choosing a Model\n",
    "Training the Model: Developing a model that does better than a baseline.\n",
    "Evaluating the Model: Choosing a measure of success. Deciding on an evaluation protocol.\n",
    "Parameter tuning: Scaling up: developing a model that overfits.Regularizing your model and tuning your parameters.\n",
    "Prediction or Inference."
   ]
  },
  {
   "cell_type": "code",
   "execution_count": null,
   "id": "cfdd51f6",
   "metadata": {},
   "outputs": [],
   "source": [
    "2. What are the different forms of data used in machine learning ? Give a specific example for each of them ?"
   ]
  },
  {
   "cell_type": "code",
   "execution_count": null,
   "id": "9163a1d0",
   "metadata": {},
   "outputs": [],
   "source": [
    "Ans: Most data can be categorized into 4 basic types from a Machine Learning perspective: Numerical Data, Categorical Data,\n",
    "    Time-Series Data, and Text data."
   ]
  },
  {
   "cell_type": "code",
   "execution_count": null,
   "id": "32e57be1",
   "metadata": {},
   "outputs": [],
   "source": [
    "3. Distinguish between :\n",
    "Numeric vs. categorical attributes\n",
    "Feature selection vs. dimensionality reduction"
   ]
  },
  {
   "cell_type": "code",
   "execution_count": null,
   "id": "c6eedf5e",
   "metadata": {},
   "outputs": [],
   "source": [
    "Ans: Numeric vs. categorical attributes:\n",
    "Numerical data are values obtained for quantitative variable, and carries a sense of magnitude related to the context of\n",
    "the variable (hence, they are always numbers or symbols carrying a numerical value).\n",
    "Categorical data are values obtained for a qualitative variable. categorical data numbers don't carry a sense of magnitude.\n",
    "\n",
    "Feature selection vs. dimensionality reduction\n",
    "Feature selection you just select a subset of the original feature set, without any manipulation of the data on the other \n",
    "hand.\n",
    "Dimensionality reduction is typically choosing a new representation within which you can describe most but not all of the\n",
    "variance within your data, thereby retaining the relevant information, while reducing theamount of information necessary \n",
    "to represent it."
   ]
  },
  {
   "cell_type": "code",
   "execution_count": null,
   "id": "02a1c0dc",
   "metadata": {},
   "outputs": [],
   "source": [
    "4. Make quick notes on any two of the following ?\n",
    "The histogram\n",
    "Use a scatter plot\n",
    "PCA (Personal Computer Aid)"
   ]
  },
  {
   "cell_type": "code",
   "execution_count": null,
   "id": "fb76d06d",
   "metadata": {},
   "outputs": [],
   "source": [
    "Ans: The Quick notes on the following three topics is:\n",
    "\n",
    "The histogram: A Histogram is a graphical representation that organizes a group of data points into user-specified ranges.\n",
    "    Similar in appearance to a bar graph, the histogram condenses a data series into an easily interpreted visual by taking\n",
    "    many data points and grouping them into logical ranges or bins.\n",
    "\n",
    "Use a scatter plot: A scatter plot (aka scatter chart, scatter graph) uses dots to represent values for two different \n",
    "    numeric variables. The position of each dot on the horizontal and vertical axis indicates values for an individual\n",
    "    data point. Scatter plots are used to observe relationships between variables.\n",
    "\n",
    "PCA (Personal Computer Aid): Principal Component Analysis or PCA is a widely used technique for dimensionality reduction \n",
    "    of the large data set. Reducing the number of components or features costs some accuracy and on the other hand, \n",
    "    it makes the large data set simpler, easy to explore and visualize."
   ]
  },
  {
   "cell_type": "code",
   "execution_count": null,
   "id": "316562da",
   "metadata": {},
   "outputs": [],
   "source": [
    "5. Why is it necessary to investigate data? Is there a discrepancy in how qualitative and quantitative data are explored ?"
   ]
  },
  {
   "cell_type": "code",
   "execution_count": null,
   "id": "38fd19a1",
   "metadata": {},
   "outputs": [],
   "source": [
    "Ans: If your data set is messy, building models will not help you to solve your problem. What will happen is Garbage \n",
    "    In, Garbage Out. In order to build a powerful machine learning algorithm. We need to explore and understand our data \n",
    "    set before we define a predictive task and solve it."
   ]
  },
  {
   "cell_type": "code",
   "execution_count": null,
   "id": "7813fcd0",
   "metadata": {},
   "outputs": [],
   "source": [
    "6. What are the various histogram shapes? What exactly are ‘bins' ?"
   ]
  },
  {
   "cell_type": "code",
   "execution_count": null,
   "id": "79c5871b",
   "metadata": {},
   "outputs": [],
   "source": [
    "Ans: The different types of a Histogram are:\n",
    "\n",
    "Uniform Histogram\n",
    "Symmetric Histogram\n",
    "Bimodal Histogram\n",
    "Probability Histogram."
   ]
  },
  {
   "cell_type": "code",
   "execution_count": null,
   "id": "8756ea2e",
   "metadata": {},
   "outputs": [],
   "source": [
    "7. How do we deal with data outliers ?"
   ]
  },
  {
   "cell_type": "code",
   "execution_count": null,
   "id": "fcc69590",
   "metadata": {},
   "outputs": [],
   "source": [
    "Ans: We can use Z-Score or any of below methods to deal with data outliers:\n",
    "\n",
    "Univariate Method: This method looks for data points with extreme values on one variable.\n",
    "\n",
    "Multivariate Method: Here, we look for unusual combinations of all the variables.\n",
    "\n",
    "Minkowski Error: This method reduces the contribution of potential outliers in the training process.\n",
    "\n",
    "Z-Score: This can be done with just one line code as we have already calculated the Z-score.\n",
    "\n",
    "IQR Score: Calculate IQR score to filter out the outliers by keeping only valid values.\n",
    "\n",
    "Quantile function: Use quantile() to remove amount of data.    "
   ]
  },
  {
   "cell_type": "code",
   "execution_count": null,
   "id": "17f2b205",
   "metadata": {},
   "outputs": [],
   "source": [
    "8. What are the various central inclination measures? Why does mean vary too much from median in certain data sets ?"
   ]
  },
  {
   "cell_type": "code",
   "execution_count": null,
   "id": "a3eea8f1",
   "metadata": {},
   "outputs": [],
   "source": [
    "Ans: Mean, Median and Mode are Central Inclination Measures. Mean varies more than Median due to presence of outliers, \n",
    "    as mean is averaging all points while median in like finding a middle number."
   ]
  },
  {
   "cell_type": "code",
   "execution_count": null,
   "id": "3d9a662b",
   "metadata": {},
   "outputs": [],
   "source": [
    "9. Describe how a scatter plot can be used to investigate bivariate relationships. Is it possible to find outliers using\n",
    "   a scatter plot ?"
   ]
  },
  {
   "cell_type": "code",
   "execution_count": null,
   "id": "2dd19925",
   "metadata": {},
   "outputs": [],
   "source": [
    "Ans: A Scatter Plot (aka scatter chart, scatter graph) uses dots to represent values for two different numeric variables. \n",
    "    The position of each dot on the horizontal and vertical axis indicates values for an individual data point. \n",
    "    So this visualization gives us the idea of bivariate relationship."
   ]
  },
  {
   "cell_type": "code",
   "execution_count": null,
   "id": "97755879",
   "metadata": {},
   "outputs": [],
   "source": [
    "10. Describe how cross-tabs can be used to figure out how two variables are related ?"
   ]
  },
  {
   "cell_type": "code",
   "execution_count": null,
   "id": "da888562",
   "metadata": {},
   "outputs": [],
   "source": [
    "Ans: Cross tabulation is a method to quantitatively analyze the relationship between multiple variables. Also known as \n",
    "    contingency tables or cross tabs, cross tabulation groups variables to understand the correlation between different\n",
    "    variables. It also shows how correlations change from one variable grouping to another."
   ]
  },
  {
   "cell_type": "code",
   "execution_count": null,
   "id": "15caa89d",
   "metadata": {},
   "outputs": [],
   "source": []
  }
 ],
 "metadata": {
  "kernelspec": {
   "display_name": "Python 3 (ipykernel)",
   "language": "python",
   "name": "python3"
  },
  "language_info": {
   "codemirror_mode": {
    "name": "ipython",
    "version": 3
   },
   "file_extension": ".py",
   "mimetype": "text/x-python",
   "name": "python",
   "nbconvert_exporter": "python",
   "pygments_lexer": "ipython3",
   "version": "3.9.12"
  }
 },
 "nbformat": 4,
 "nbformat_minor": 5
}
