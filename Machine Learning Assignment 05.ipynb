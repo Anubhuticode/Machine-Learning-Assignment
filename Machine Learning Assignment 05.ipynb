{
 "cells": [
  {
   "cell_type": "markdown",
   "id": "01d28f7e",
   "metadata": {},
   "source": [
    "# Machine Learning Assignment 05"
   ]
  },
  {
   "cell_type": "code",
   "execution_count": null,
   "id": "01faa9d2",
   "metadata": {},
   "outputs": [],
   "source": [
    "1. What are the key tasks that machine learning entails? What does data pre-processing imply ?"
   ]
  },
  {
   "cell_type": "code",
   "execution_count": null,
   "id": "a7d46b7d",
   "metadata": {},
   "outputs": [],
   "source": [
    "Ans: There are Five core tasks in the common ML workflow:\n",
    "\n",
    "Get Data: The first step in the Machine Learning process is getting data.\n",
    "Cleaning, Preparing & Manipulating Data: Real-world data often has unorganized, missing, or noisy elements.\n",
    "Train Model: This step is where the magic happens!\n",
    "Testing Model.\n",
    "Improving model.\n",
    "Data preprocessing involves transforming raw data to well-formed data sets so that data mining analytics can be applied.\n",
    "Preprocessing involves both data validation and data imputation\n",
    "The Goal of Data Validation is to assess whether the data in question is both complete and accurate.\n",
    "The Goal of Data Imputation is to correct errors and input missing values, Either Manually or Automatically through "
   ]
  },
  {
   "cell_type": "code",
   "execution_count": null,
   "id": "e93e7261",
   "metadata": {},
   "outputs": [],
   "source": [
    "2. Describe quantitative and qualitative data in depth. Make a distinction between the two ?"
   ]
  },
  {
   "cell_type": "code",
   "execution_count": null,
   "id": "48075652",
   "metadata": {},
   "outputs": [],
   "source": [
    "Ans: The Data Type Is Broadly Classified Into:\n",
    "\n",
    "Quantitative\n",
    "Qualitative\n",
    "\n",
    "Quantitative Data Type: This Type Of Data Type Consists Of Numerical Values. Anything Which Is Measured By Numbers. \n",
    "        E.G., Profit, Quantity Sold, Height, Weight, Temperature, Etc. This Is Again Of Two Types:\n",
    "        1. Discrete Data Type\n",
    "        2. Continuous Data Type   \n",
    "Qualitative Data Type: These Are The Data Types That Cannot Be Expressed In Numbers. This Describes Categories Or Groups \n",
    "    And Is Hence Known As The Categorical Data Type. This Can Be Divided Into:-\n",
    "        1. Structured Data \n",
    "        2. Unstructured Data"
   ]
  },
  {
   "cell_type": "code",
   "execution_count": null,
   "id": "79c51d83",
   "metadata": {},
   "outputs": [],
   "source": [
    "3. Create a basic data collection that includes some sample records. Have at least one attribute from each of the machine \n",
    "learning data types ?\n"
   ]
  },
  {
   "cell_type": "code",
   "execution_count": null,
   "id": "371a2bdd",
   "metadata": {},
   "outputs": [],
   "source": [
    "Ans: The following is a basic data collection that includes some sample records.\n",
    "    1. Determine What Information You Want to Collect\n",
    "    2. Set a Timeframe for Data Collection\n",
    "    3. Determine Your Data Collection Method\n",
    "    4. Collect the Data\n",
    "    5. Analyze the Data and Implement Your Findings"
   ]
  },
  {
   "cell_type": "code",
   "execution_count": null,
   "id": "09c5facd",
   "metadata": {},
   "outputs": [],
   "source": [
    "4. What are the various causes of machine learning data issues? What are the ramifications ?"
   ]
  },
  {
   "cell_type": "code",
   "execution_count": null,
   "id": "bba98c5c",
   "metadata": {},
   "outputs": [],
   "source": [
    "Ans: Noisy data, dirty data, and incomplete data are the quintessential enemies of ideal Machine Learning. The solution to\n",
    "    this conundrum is to take the time to evaluate and scope data with meticulous data governance, data integration, and \n",
    "    data exploration until you get clear data. Ramifications or major issues in machine learning are:\n",
    "    1. Five practical issues in machine learning and the business implications Data quality.\n",
    "    2. Machine learning systems rely on data.\n",
    "    3. The complexity and quality trade-off.\n",
    "    4. Sampling bias in data.\n",
    "    5. Changing expectations and concept drift.\n",
    "    6. Monitoring and maintenance.    "
   ]
  },
  {
   "cell_type": "code",
   "execution_count": null,
   "id": "b6e03f72",
   "metadata": {},
   "outputs": [],
   "source": [
    "5. Demonstrate various approaches to categorical data exploration with appropriate examples ?"
   ]
  },
  {
   "cell_type": "code",
   "execution_count": null,
   "id": "88a3eb3f",
   "metadata": {},
   "outputs": [],
   "source": [
    "Ans: Various approaches to categorical data exploration are:\n",
    "        1. Unique value count:\n",
    "        2. Frequency Count: \n",
    "        3. Variance:\n",
    "        4. Pareto Analysis\n",
    "        5. Histogram\n",
    "        6. Correlation Heat-map between all numeric columns\n",
    "        7. Pearson Correlation and Trend between two numeric columns\n",
    "        8. Outlier overview"
   ]
  },
  {
   "cell_type": "code",
   "execution_count": null,
   "id": "78abc460",
   "metadata": {},
   "outputs": [],
   "source": [
    "6. How would the learning activity be affected if certain variables have missing values? Having said that, what can be done\n",
    "about it ?"
   ]
  },
  {
   "cell_type": "code",
   "execution_count": null,
   "id": "fc35fbce",
   "metadata": {},
   "outputs": [],
   "source": [
    "Ans: Even in a Well-Designed & Controlled study, Missing data occurs in almost all research. Missing data can reduce the \n",
    "    statistical power of a study and can produce biased estimates, leading to invalid conclusions.\n",
    "    a. Real-world data collection has its own set of problems, It is often very messy which includes missing data, \n",
    "    presence of outliers, unstructured manner, etc.\n",
    "    b. Before looking for any insights from the data, we have to first perform preprocessing tasks which then only \n",
    "    allow us to use that data for further observation and train our machine learning model.\n",
    "    c. Missing value in a dataset is a very common phenomenon in the reality."
   ]
  },
  {
   "cell_type": "code",
   "execution_count": null,
   "id": "ed895359",
   "metadata": {},
   "outputs": [],
   "source": [
    "7. Describe the various methods for dealing with missing data values in depth ?"
   ]
  },
  {
   "cell_type": "code",
   "execution_count": null,
   "id": "b6f05f4d",
   "metadata": {},
   "outputs": [],
   "source": [
    "Ans: The Various Methods for dealing with missing data values are:\n",
    "        1. Delete the observations: \n",
    "        2. Replace missing values with the most frequent value:\n",
    "        3. Develop a model to predict missing values:    "
   ]
  },
  {
   "cell_type": "code",
   "execution_count": null,
   "id": "9a6b9b05",
   "metadata": {},
   "outputs": [],
   "source": [
    "8. What are the various data pre-processing techniques? Explain dimensionality reduction and function selection in a \n",
    "few words ?"
   ]
  },
  {
   "cell_type": "code",
   "execution_count": null,
   "id": "080ff3be",
   "metadata": {},
   "outputs": [],
   "source": [
    "Ans: The Various Data Pre-Processing Techniques are:\n",
    "        Data Cleaning: The data can have many irrelevant and missing parts. To handle this part, data cleaning is done.\n",
    "        It involves handling of missing data, noisy data etc.\n",
    "        1. Missing Data\n",
    "        2. Noisy Data\n",
    "        \n",
    "        Data Reduction:Since data mining is a technique that is used to handle huge amount of data.\n",
    "            1. Data Cube Aggregation\n",
    "            2. Attribute Subset Selection\n",
    "            3. Numerosity Reduction\n",
    "            4. Dimensionality Reduction"
   ]
  },
  {
   "cell_type": "code",
   "execution_count": null,
   "id": "84dcff4c",
   "metadata": {},
   "outputs": [],
   "source": [
    "9.Make brief notes on of the following ?\n",
    "What is the IQR? What criteria are used to assess it?\n",
    "Describe the various components of a box plot in detail? When will the lower whisker surpass the upper whisker in length?\n",
    "How can box plots be used to identify outliers?"
   ]
  },
  {
   "cell_type": "code",
   "execution_count": null,
   "id": "8fb66e0b",
   "metadata": {},
   "outputs": [],
   "source": [
    "Ans: The following is the brief notes on the following topics:\n",
    "        What is the IQR? What criteria are used to assess it?\n",
    "\n",
    "        Q1 is the first quartile of the data, i.e., to say 25% of the data lies between minimum and Q1.\n",
    "        Q3 is the third quartile of the data, i.e., to say 75% of the data lies between minimum and Q3.\n",
    "        The difference between Q3 and Q1 is called the Inter-Quartile Range or IQR."
   ]
  },
  {
   "cell_type": "code",
   "execution_count": null,
   "id": "004f6f11",
   "metadata": {},
   "outputs": [],
   "source": [
    "10. Make brief notes on any two of the following ?\n",
    "Data collected at regular intervals\n",
    "The gap between the quartiles\n",
    "Use a cross-tab"
   ]
  },
  {
   "cell_type": "code",
   "execution_count": null,
   "id": "00e6b1da",
   "metadata": {},
   "outputs": [],
   "source": [
    "Ans: The following are the breif notes about:\n",
    "\n",
    "Data collected at regular intervals:\n",
    "\n",
    "Interval data is one of the two types of discrete data.\n",
    "An example of interval data is the data collected on a thermometer—its gradation or markings are equidistant.\n",
    "\n",
    "The gap between the quartiles:\n",
    "\n",
    "Q1 is the first quartile of the data, i.e., to say 25% of the data lies between minimum and Q1.\n",
    "Q3 is the third quartile of the data, i.e., to say 75% of the data lies between minimum and Q3.\n",
    "The difference between Q3 and Q1 is called the Inter-Quartile Range or IQR."
   ]
  },
  {
   "cell_type": "code",
   "execution_count": null,
   "id": "596c82ae",
   "metadata": {},
   "outputs": [],
   "source": [
    "11. Make a comparison between ?\n",
    "Data with nominal and ordinal values\n",
    "Histogram and box plot\n",
    "The average and median"
   ]
  },
  {
   "cell_type": "code",
   "execution_count": null,
   "id": "74c6fe1f",
   "metadata": {},
   "outputs": [],
   "source": [
    "Ans: The following are the breif notes about:\n",
    "\n",
    "The average and median:\n",
    "\n",
    "The mean (informally, the “average“) is found by adding all of the numbers together and dividing by the number of items in\n",
    "the set: 10 + 10 + 20 + 40 + 70 / 5 = 30. The median is found by ordering the set from lowest to highest and finding the\n",
    "exact middle. The median is just the middle number: 20\n",
    "Histogram and barplot:\n",
    "\n",
    "Histograms and box plots are very similar in that they both help to visualize and describe numeric data. Although\n",
    "histograms are better in determining the underlying distribution of the data, box plots allow you to compare multiple data\n",
    "sets better than histograms as they are less detailed and take up less space."
   ]
  },
  {
   "cell_type": "code",
   "execution_count": null,
   "id": "45fe14e4",
   "metadata": {},
   "outputs": [],
   "source": []
  },
  {
   "cell_type": "code",
   "execution_count": null,
   "id": "e54b68e2",
   "metadata": {},
   "outputs": [],
   "source": []
  }
 ],
 "metadata": {
  "kernelspec": {
   "display_name": "Python 3 (ipykernel)",
   "language": "python",
   "name": "python3"
  },
  "language_info": {
   "codemirror_mode": {
    "name": "ipython",
    "version": 3
   },
   "file_extension": ".py",
   "mimetype": "text/x-python",
   "name": "python",
   "nbconvert_exporter": "python",
   "pygments_lexer": "ipython3",
   "version": "3.9.12"
  }
 },
 "nbformat": 4,
 "nbformat_minor": 5
}
