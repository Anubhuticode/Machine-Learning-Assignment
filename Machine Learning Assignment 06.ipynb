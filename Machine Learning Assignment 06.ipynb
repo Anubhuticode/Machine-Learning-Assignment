{
 "cells": [
  {
   "cell_type": "markdown",
   "id": "ae8e699c",
   "metadata": {},
   "source": [
    "# Machine Learning Assignment 06"
   ]
  },
  {
   "cell_type": "code",
   "execution_count": null,
   "id": "94b3848b",
   "metadata": {},
   "outputs": [],
   "source": [
    "1. In the sense of machine learning, what is a model? What is the best way to train a model?"
   ]
  },
  {
   "cell_type": "code",
   "execution_count": null,
   "id": "42a2a632",
   "metadata": {},
   "outputs": [],
   "source": [
    "Ans: A Machine Learning Model is a file that has been trained to recognize certain types of patterns. You train a model \n",
    "    over a set of data, providing it an algorithm that it can use to reason over and learn from those data.\n",
    "    \n",
    "    1. Model Naming \n",
    "    2. Data Type Selection \n",
    "    3. Data Upload \n",
    "    4. Type category(label)\n",
    "    5. Start Training "
   ]
  },
  {
   "cell_type": "code",
   "execution_count": null,
   "id": "d47d96a5",
   "metadata": {},
   "outputs": [],
   "source": [
    "2. In the sense of machine learning, explain the \"No Free Lunch\" theorem."
   ]
  },
  {
   "cell_type": "code",
   "execution_count": null,
   "id": "73926ac7",
   "metadata": {},
   "outputs": [],
   "source": [
    "Ans: The No Free Lunch Theorem, often abbreviated as NFL or NFLT, is a theoretical finding that suggests all optimization \n",
    "    algorithms perform equally well when their performance is averaged over all possible objective functions.In computation\n",
    "    al complexity and optimization the no free lunch theorem is a result that states that for certain types of mathematical\n",
    "    problems, the computational cost of finding a solution, averaged over all problems in the class, is the same for any \n",
    "    solution method.\n",
    "\n",
    "In Simple Words “No Free Lunch” theorem means we can’t rely on one model to be best of all models. We have to understand \n",
    "data properly and make use of ML understanding and make use of models to find best out of it."
   ]
  },
  {
   "cell_type": "code",
   "execution_count": null,
   "id": "559d7b26",
   "metadata": {},
   "outputs": [],
   "source": [
    "3. Describe the K-fold cross-validation mechanism in detail."
   ]
  },
  {
   "cell_type": "code",
   "execution_count": null,
   "id": "63721c7d",
   "metadata": {},
   "outputs": [],
   "source": [
    "Ans: In K-fold cross validation, data D is subset into k subsets randomly. Let us assume S1...Sk are the subsets where\n",
    "    Sk is the kth randomly split subset of data D. In the first iteration, D-S1 is used for training and S1 for testing \n",
    "    the model. When the model has been trained and tested, evaluation can be done, score is noted elsewhere and the trained\n",
    "    model is discarded."
   ]
  },
  {
   "cell_type": "code",
   "execution_count": null,
   "id": "74ea8059",
   "metadata": {},
   "outputs": [],
   "source": [
    "4. Describe the bootstrap sampling method. What is the aim of it?"
   ]
  },
  {
   "cell_type": "code",
   "execution_count": null,
   "id": "3f732cf0",
   "metadata": {},
   "outputs": [],
   "source": [
    "Ans: The bootstrap method is a statistical technique for estimating quantities about a population by averaging estimates \n",
    "    from multiple small data samples.\n",
    "\n",
    "    Importantly, samples are constructed by drawing observations from a large data sample one at a time and returning them\n",
    "    to the data sample after they have been chosen. This allows a given observation to be included in a given small sample\n",
    "    more than once. This approach to sampling is called sampling with replacement."
   ]
  },
  {
   "cell_type": "code",
   "execution_count": null,
   "id": "71fc389f",
   "metadata": {},
   "outputs": [],
   "source": [
    "5. What is the significance of calculating the Kappa value for a classification model? Demonstrate how to measure the\n",
    "Kappa value of a classification model using a sample collection of results."
   ]
  },
  {
   "cell_type": "code",
   "execution_count": null,
   "id": "b06b7564",
   "metadata": {},
   "outputs": [],
   "source": [
    "Ans: Kappa value or Cohen's Kappa coefficient is an evaluation metric for classification models. Its significance as an \n",
    "    evaluation metric is that it can be used to evaluate multi class classification models and also works on models trained\n",
    "    on imbalanced datasets(scores like accuracy scores fail for imbalanced datasets).\n",
    "\n",
    "In simpler words It basically tells you how much better your classifier is performing over the performance of a classifier \n",
    "that simply guesses at random according to the frequency of each class. Cohen's kappa is always less than or equal to 1.\n",
    "Values of 0 or less, indicate that the classifier is useless Cohen suggested the Kappa result be interpreted as follows: \n",
    "values ≤ 0 as indicating no agreement and 0.01–0.20 as none to slight, 0.21–0.40 as fair, 0.41– 0.60 as moderate,\n",
    "0.61–0.80 as substantial, and 0.81–1.00 as almost perfect agreement."
   ]
  },
  {
   "cell_type": "code",
   "execution_count": null,
   "id": "a4928c59",
   "metadata": {},
   "outputs": [],
   "source": [
    "6. Describe the model ensemble method. In machine learning, what part does it play?"
   ]
  },
  {
   "cell_type": "code",
   "execution_count": null,
   "id": "2e27e6ac",
   "metadata": {},
   "outputs": [],
   "source": [
    "Ans: Ensemble methods or ensemble machine learning models are models where more than one models are being used \n",
    "    spontaneously to produce better results than individually trained models."
   ]
  },
  {
   "cell_type": "code",
   "execution_count": null,
   "id": "aae04fb4",
   "metadata": {},
   "outputs": [],
   "source": [
    "7. What is a descriptive model's main purpose? Give examples of real-world problems that descriptive models were used \n",
    "to solve."
   ]
  },
  {
   "cell_type": "code",
   "execution_count": null,
   "id": "8ac78765",
   "metadata": {},
   "outputs": [],
   "source": [
    "Ans: A descriptive model is used for tasks that would benefit from the insight gained from summarizing data in new and \n",
    "    interesting ways. As opposed to predictive models that predict a target of interest, in a descriptive model,\n",
    "    no single feature is more important than any other. In fact, because there is no target to learn, the process of \n",
    "    training a descriptive model is called unsupervised learning."
   ]
  },
  {
   "cell_type": "code",
   "execution_count": null,
   "id": "fc4f4c7e",
   "metadata": {},
   "outputs": [],
   "source": [
    "8. Describe how to evaluate a linear regression model."
   ]
  },
  {
   "cell_type": "code",
   "execution_count": null,
   "id": "adae370b",
   "metadata": {},
   "outputs": [],
   "source": [
    "Ans: Evaluation of a linear regression model can be done using R-square. R square is calculated as the sum of \n",
    "    squared errors in predictions made, divided by summation of all sum of squares. R square measures how much of the \n",
    "    change in target variable can be explained by the linear regressor. Its value ranges from 0 to 1 where 0 means poor\n",
    "    performance and 1 means good. Some other techniques which can be used to evaluate a linear regression model are:"
   ]
  },
  {
   "cell_type": "code",
   "execution_count": null,
   "id": "d18ccd87",
   "metadata": {},
   "outputs": [],
   "source": [
    "9. Distinguish :\n",
    "Descriptive vs. predictive models\n",
    "Underfitting vs. overfitting the model\n",
    "Bootstrapping vs. cross-validation"
   ]
  },
  {
   "cell_type": "code",
   "execution_count": null,
   "id": "89ac8644",
   "metadata": {},
   "outputs": [],
   "source": [
    "Ans:\n",
    "    Descriptive vs. predictive models\n",
    "\n",
    "Descriptive models are built to identify trends and underlying patterns.\n",
    "Predictive models are built to predict a dependent variable value.\n",
    "Most of descriptive models are built using unsupervised machine learning.\n",
    "\n",
    "Underfitting vs. overfitting the model\n",
    "\n",
    "Underfitting is a situation arising when the hypothesis is way too simple, or when the machine learning model is way too\n",
    "simple to produce good results.\n",
    "Overfitting is a situation arising when the hypothesis is way too complex, or when the machine learning model is way\n",
    "too complex to produce good results.\n",
    "Underfitting causes a model to produce poor results due to heavily simplified algorithm reacting lightly to changes in\n",
    "the unseen data for independent variables from the training data.\n",
    "\n",
    "Bootstrapping vs cross-validation\n",
    "\n",
    "Boostrap sampling is a method of sampling in which the repeated sampling is done with replacement using a data D in\n",
    "random draws over which machine learning models are trained for better performance.\n",
    "Cross validation is a method used to check the efficacy of the machine learning model on test data.\n",
    "End goal of bootstrapping is to reduce overfitting and increase performance."
   ]
  },
  {
   "cell_type": "code",
   "execution_count": null,
   "id": "4ba8ee3f",
   "metadata": {},
   "outputs": [],
   "source": [
    "10. Make quick notes on:\n",
    "LOOCV.\n",
    "F-measurement\n",
    "The width of the silhouette\n",
    "Receiver operating characteristic curve"
   ]
  },
  {
   "cell_type": "code",
   "execution_count": null,
   "id": "47b2aead",
   "metadata": {},
   "outputs": [],
   "source": [
    "Ans: The Quick notes on: LOOCV or Leave One Out Cross Validation is a form of K-fold cross validation where only one\n",
    "        observation is left out for validation purpose while the rest of the data is used for model training each \n",
    "        iteration. It is computationally taxing and should only be used for data with low dimensionality.\n",
    "        \n",
    "Harmonic mean of Precision score and recall score is called F-measurement or F-score. It is formulated as\n",
    "2 (pr re)/pr +re where pr is precision score and re is recall score.    \n",
    "\n",
    "Estimate of average inter cluster distance to give efficacy/performance of cluster algorithms is called width of the\n",
    "silhouette. It can also be defined as how identical/similar a data point 'x' is to the data points inside the cluster \n",
    "to which x is assigned. Its value ranges from -1 to 1 where 1 means good and -1 means bad.\n",
    "\n",
    "Curve plotted between True Positive Rate and False Positive Rate is Receiver Operating Characteristics curve and is\n",
    "used to find the area under the curve for ROC-AUC score for binary classification evaluation."
   ]
  },
  {
   "cell_type": "code",
   "execution_count": null,
   "id": "9f28ea04",
   "metadata": {},
   "outputs": [],
   "source": []
  },
  {
   "cell_type": "code",
   "execution_count": null,
   "id": "6aededa9",
   "metadata": {},
   "outputs": [],
   "source": []
  }
 ],
 "metadata": {
  "kernelspec": {
   "display_name": "Python 3 (ipykernel)",
   "language": "python",
   "name": "python3"
  },
  "language_info": {
   "codemirror_mode": {
    "name": "ipython",
    "version": 3
   },
   "file_extension": ".py",
   "mimetype": "text/x-python",
   "name": "python",
   "nbconvert_exporter": "python",
   "pygments_lexer": "ipython3",
   "version": "3.9.12"
  }
 },
 "nbformat": 4,
 "nbformat_minor": 5
}
