{
 "cells": [
  {
   "cell_type": "markdown",
   "id": "ef255f28",
   "metadata": {},
   "source": [
    "# Machine Learning Assignment 07"
   ]
  },
  {
   "cell_type": "code",
   "execution_count": null,
   "id": "67d93038",
   "metadata": {},
   "outputs": [],
   "source": [
    "1. What is the definition of a target function ? In the sense of a real-life example, express the target function. \n",
    "How is a target function's fitness assessed ?"
   ]
  },
  {
   "cell_type": "code",
   "execution_count": null,
   "id": "76e51643",
   "metadata": {},
   "outputs": [],
   "source": [
    "Ans: A target function, in machine learning, is a method for solving a problem that an AI algorithm parses its training \n",
    "    data to find.The target function is essentially the formula that an algorithm feeds data to in order to calculate\n",
    "    predictions.\n",
    "\n",
    "    Analyzing the massive amounts of data related to its given problem, an AI derives understanding of previously \n",
    "    unspecified rules by detecting consistencies in the data. The observations of inherent rules about how the studied \n",
    "    subject operates inform the AI on how to process future data that does not include an output by applying this \n",
    "    previously unknown function."
   ]
  },
  {
   "cell_type": "code",
   "execution_count": null,
   "id": "fabc6fdc",
   "metadata": {},
   "outputs": [],
   "source": [
    "2. What are predictive models, and how do they work? What are descriptive types, and how do you use them? Examples of both\n",
    "types of models should be provided. Distinguish between these two forms of models ?"
   ]
  },
  {
   "cell_type": "code",
   "execution_count": null,
   "id": "abc39fa1",
   "metadata": {},
   "outputs": [],
   "source": [
    "Ans: In short, predictive modeling is a statistical technique using machine learning and data mining to predict and\n",
    "    forecast likely future outcomes with the aid of historical and existing data.\n",
    "\n",
    "It works by analyzing current and historical data and projecting what it learns on a model generated to forecast likely\n",
    "outcomes.\n",
    "\n",
    "The three main types of descriptive studies are Case studies, Naturalistic observation, and Surveys."
   ]
  },
  {
   "cell_type": "code",
   "execution_count": null,
   "id": "808c1071",
   "metadata": {},
   "outputs": [],
   "source": [
    "3. Describe the method of assessing a classification model's efficiency in detail. Describe the various measurement parameters ?"
   ]
  },
  {
   "cell_type": "code",
   "execution_count": null,
   "id": "1dd4e103",
   "metadata": {},
   "outputs": [],
   "source": [
    "Ans: Logarithmic loss (or log loss) measures the performance of a classification model where the prediction is a\n",
    "    probability value between 0 and 1.\n",
    "\n",
    "Log loss increases as the predicted probability diverge from the actual label. Log loss is a widely used metric for Kaggle\n",
    "competitions. Input on the most important basics for the measurement of the physical parameters: Temperature, flow\n",
    "velocity, humidity, pressure, CO2 and infrared. Tips on correct measurement and for avoiding measurement errors."
   ]
  },
  {
   "cell_type": "code",
   "execution_count": null,
   "id": "212361b6",
   "metadata": {},
   "outputs": [],
   "source": [
    "4. Describe :\n",
    "In the sense of machine learning models, what is underfitting? What is the most common reason for underfitting ?\n",
    "What does it mean to overfit? When is it going to happen?\n",
    "In the sense of model fitting, explain the bias-variance trade-off."
   ]
  },
  {
   "cell_type": "code",
   "execution_count": null,
   "id": "1355f006",
   "metadata": {},
   "outputs": [],
   "source": [
    "Ans: The following is the short notes on:\n",
    "\n",
    "In the sense of machine learning models, what is underfitting? What is the most common reason for underfitting:\n",
    "Underfitting is a scenario in data science where a data model is unable to capture the relationship between the \n",
    "input and output variables accurately, generating a high error rate on both the training set and unseen data.\n",
    "\n",
    "What does it mean to overfit? When is it going to happen\n",
    "Overfitting happens when a model learns the detail and noise in the training data to the extent that it negatively \n",
    "impacts the performance of the model on new data. This means that the noise or random fluctuations in the training data \n",
    "is picked up and learned as concepts by the model.\n",
    "\n",
    "In the sense of model fitting, explain the bias-variance trade-off\n",
    "The bias is known as the difference between the prediction of the values by the ML model and the correct value. "
   ]
  },
  {
   "cell_type": "code",
   "execution_count": null,
   "id": "60f7e304",
   "metadata": {},
   "outputs": [],
   "source": [
    "5. Is it possible to boost the efficiency of a learning model? If so, please clarify how ?"
   ]
  },
  {
   "cell_type": "code",
   "execution_count": null,
   "id": "0721bb99",
   "metadata": {},
   "outputs": [],
   "source": [
    "Ans: Building a machine learning model is not enough to get the right predictions, as you have to check the accuracy \n",
    "    and need to validate the same to ensure get the precise results. \n",
    "    And validating the model will improve the performance of the ML model."
   ]
  },
  {
   "cell_type": "code",
   "execution_count": null,
   "id": "caa0c202",
   "metadata": {},
   "outputs": [],
   "source": [
    "6. How would you rate an unsupervised learning model's success? What are the most common success indicators for\n",
    "an unsupervised learning model ?"
   ]
  },
  {
   "cell_type": "code",
   "execution_count": null,
   "id": "19a78467",
   "metadata": {},
   "outputs": [],
   "source": [
    "Ans: In case of supervised learning, it is mostly done by measuring the performance metrics such as accuracy, \n",
    "    precision, recall, AUC, etc. on the training set and the holdout sets.\n",
    "\n",
    "Few examples of such measures are:\n",
    "\n",
    "Silhouette coefficient.\n",
    "Calisnki-Harabasz coefficient.\n",
    "Dunn index.\n",
    "Xie-Beni score.\n",
    "Hartigan index"
   ]
  },
  {
   "cell_type": "code",
   "execution_count": null,
   "id": "470e7043",
   "metadata": {},
   "outputs": [],
   "source": [
    "7. Is it possible to use a classification model for numerical data or a regression model for categorical data with a \n",
    "classification model? Explain your answer ?"
   ]
  },
  {
   "cell_type": "code",
   "execution_count": null,
   "id": "ee79c6f6",
   "metadata": {},
   "outputs": [],
   "source": [
    "Ans: Categorical Data is the data that generally takes a limited number of possible values. Also, the data in the category\n",
    "    need not be numerical, it can be textual in nature. All machine learning models are some kind of mathematical model\n",
    "    that need numbers to work with. This is one of the primary reasons we need to pre-process the categorical data before \n",
    "    we can feed it to machine learning models."
   ]
  },
  {
   "cell_type": "code",
   "execution_count": null,
   "id": "fa15f862",
   "metadata": {},
   "outputs": [],
   "source": [
    "8. Describe the predictive modeling method for numerical values. What distinguishes it from categorical predictive modeling ?"
   ]
  },
  {
   "cell_type": "code",
   "execution_count": null,
   "id": "0f59f124",
   "metadata": {},
   "outputs": [],
   "source": [
    "Ans: predictive modeling is a statistical technique using machine learning and data mining to predict and forecast \n",
    "    likely future outcomes with the aid of historical and existing data. It works by analyzing current and historical \n",
    "    data and projecting what it learns on a model generated to forecast likely outcomes.\n",
    "\n",
    "Classification is the process of identifying the category or class label of the new observation to which it belongs.\n",
    "Predication is the process of identifying the missing or unavailable numerical data for a new observation. That is the\n",
    "key difference between classification and prediction."
   ]
  },
  {
   "cell_type": "code",
   "execution_count": null,
   "id": "4c3c3241",
   "metadata": {},
   "outputs": [],
   "source": [
    "9. Make quick notes on:\n",
    "The process of holding out\n",
    "Cross-validation by tenfold\n",
    "Adjusting the parameters"
   ]
  },
  {
   "cell_type": "code",
   "execution_count": null,
   "id": "be4d3e04",
   "metadata": {},
   "outputs": [],
   "source": [
    "Ans: The Quick notes on the following topics is below:\n",
    "\n",
    "The process of holding out:\n",
    "The hold-out method for training machine learning model is the process of splitting the data in different splits and \n",
    "using one split for training the model and other splits for validating and testing the models. The hold-out method is \n",
    "used for both model evaluation and model selection.\n",
    "\n",
    "Cross-validation by tenfold:\n",
    "10-fold cross validation would perform the fitting procedure a total of ten times, with each fit being performed on a \n",
    "training set consisting of 90% of the total training set selected at random, with the remaining 10% used as a hold out \n",
    "set for validation.\n",
    "\n",
    "Adjusting the parameters:\n",
    "A fancy name for training: the selection of parameter values, which are optimal in some desired sense"
   ]
  },
  {
   "cell_type": "code",
   "execution_count": null,
   "id": "f84d4889",
   "metadata": {},
   "outputs": [],
   "source": [
    "10. Define the following terms:\n",
    "Purity vs. Silhouette width\n",
    "Boosting vs. Bagging\n",
    "The eager learner vs. the lazy learner"
   ]
  },
  {
   "cell_type": "code",
   "execution_count": null,
   "id": "08899a09",
   "metadata": {},
   "outputs": [],
   "source": [
    "Ans: The Following is the short notes on:\n",
    "\n",
    "Purity vs Silhouette width\n",
    "Boosting vs Bagging\n",
    "The eager learner vs. the lazy learner    "
   ]
  }
 ],
 "metadata": {
  "kernelspec": {
   "display_name": "Python 3 (ipykernel)",
   "language": "python",
   "name": "python3"
  },
  "language_info": {
   "codemirror_mode": {
    "name": "ipython",
    "version": 3
   },
   "file_extension": ".py",
   "mimetype": "text/x-python",
   "name": "python",
   "nbconvert_exporter": "python",
   "pygments_lexer": "ipython3",
   "version": "3.9.12"
  }
 },
 "nbformat": 4,
 "nbformat_minor": 5
}
