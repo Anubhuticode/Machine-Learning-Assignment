{
 "cells": [
  {
   "cell_type": "markdown",
   "id": "05127997",
   "metadata": {},
   "source": [
    "# Machine Learning Assignment 08"
   ]
  },
  {
   "cell_type": "code",
   "execution_count": null,
   "id": "0257ef8a",
   "metadata": {},
   "outputs": [],
   "source": [
    "1. What exactly is a feature? Give an example to illustrate your point ?"
   ]
  },
  {
   "cell_type": "code",
   "execution_count": null,
   "id": "e197bb13",
   "metadata": {},
   "outputs": [],
   "source": [
    "Ans: Features are the basic building blocks of datasets. The quality of the features in your dataset has a major impact on\n",
    "    the quality of the insights you will gain when you use that dataset for machine learning.\n",
    "\n",
    "Additionally, different business problems within the same industry do not necessarily require the same features, \n",
    "which is why it is important to have a strong understanding of the business goals of your data science project."
   ]
  },
  {
   "cell_type": "code",
   "execution_count": null,
   "id": "4c39bf7c",
   "metadata": {},
   "outputs": [],
   "source": [
    "2. What are the various circumstances in which feature construction is required ?"
   ]
  },
  {
   "cell_type": "code",
   "execution_count": null,
   "id": "fb4f58cd",
   "metadata": {},
   "outputs": [],
   "source": [
    "Ans: The features in your data will directly influence the predictive models you use and the results you can achieve.\n",
    "    Your results are dependent on many inter-dependent properties. You need great features that describe the structures \n",
    "    inherent in your data. Better features means flexibility."
   ]
  },
  {
   "cell_type": "code",
   "execution_count": null,
   "id": "886092c3",
   "metadata": {},
   "outputs": [],
   "source": [
    "3. Describe how nominal variables are encoded ?"
   ]
  },
  {
   "cell_type": "code",
   "execution_count": null,
   "id": "701020dc",
   "metadata": {},
   "outputs": [],
   "source": [
    "Ans: Nominal data is made of discrete values with no numerical relationship between the different categories — mean \n",
    "    and median are meaningless. Animal species is one example. For example, pig is not higher than bird and lower than \n",
    "    fish."
   ]
  },
  {
   "cell_type": "code",
   "execution_count": null,
   "id": "5b64ab20",
   "metadata": {},
   "outputs": [],
   "source": [
    "4. Describe how numeric features are converted to categorical features ?"
   ]
  },
  {
   "cell_type": "code",
   "execution_count": null,
   "id": "c303656e",
   "metadata": {},
   "outputs": [],
   "source": [
    "Ans: Converting categorical features into numeric features using domain knowledge. For example, we are given a list of\n",
    "    countries and say we know the distance to these countries from India then we can replace it with distance from India.\n",
    "    So, every country can be represented as its distance from India."
   ]
  },
  {
   "cell_type": "code",
   "execution_count": null,
   "id": "268fbc50",
   "metadata": {},
   "outputs": [],
   "source": [
    "5. Describe the feature selection wrapper approach. State the advantages and disadvantages of this approach ?"
   ]
  },
  {
   "cell_type": "code",
   "execution_count": null,
   "id": "6c56965e",
   "metadata": {},
   "outputs": [],
   "source": [
    "Ans: Wrapper methods measure the “usefulness” of features based on the classifier performance. In contrast, the filter\n",
    "    methods pick up the intrinsic properties of the features (i.e., the “relevance” of the features) measured via\n",
    "    univariate statistics instead of cross-validation performance.\n",
    "\n",
    "The wrapper classification algorithms with joint dimensionality reduction and classification can also be used but\n",
    "these methods have high computation cost, lower discriminative power. Moreover, these methods depend on the efficient\n",
    "selection of classifiers for obtaining high accuracy"
   ]
  },
  {
   "cell_type": "code",
   "execution_count": null,
   "id": "6e6da1c4",
   "metadata": {},
   "outputs": [],
   "source": [
    "6. When is a feature considered irrelevant? What can be said to quantify it ?"
   ]
  },
  {
   "cell_type": "code",
   "execution_count": null,
   "id": "7c9b14a6",
   "metadata": {},
   "outputs": [],
   "source": [
    "Ans: Features are considered relevant if they are either strongly or weakly relevant, and are considered irrelevant \n",
    "    otherwise.\n",
    "\n",
    "Irrelevant features can never contribute to prediction accuracy, by definition. Also to quantify it we need to first \n",
    "check the list of features, There are three types of feature selection:\n",
    "\n",
    "Wrapper methods (forward, backward, and stepwise selection)\n",
    "Filter methods (ANOVA, Pearson correlation, variance thresholding)\n",
    "Embedded methods (Lasso, Ridge, Decision Tree)."
   ]
  },
  {
   "cell_type": "code",
   "execution_count": null,
   "id": "bff3ee63",
   "metadata": {},
   "outputs": [],
   "source": [
    "7. When is a function considered redundant? What criteria are used to identify features that could be redundant ?"
   ]
  },
  {
   "cell_type": "code",
   "execution_count": null,
   "id": "548d7ab7",
   "metadata": {},
   "outputs": [],
   "source": [
    "Ans: If two features {X1, X2} are highly correlated, then the two features become redundant features since they have same\n",
    "    information in terms of correlation measure. In other words, the correlation measure provides statistical association \n",
    "    between any given a pair of features.\n",
    "\n",
    "Minimum redundancy feature selection is an algorithm frequently used in a method to accurately identify characteristics \n",
    "of genes and phenotypes"
   ]
  },
  {
   "cell_type": "code",
   "execution_count": null,
   "id": "1a45b3b7",
   "metadata": {},
   "outputs": [],
   "source": [
    "8. What are the various distance measurements used to determine feature similarity ?"
   ]
  },
  {
   "cell_type": "code",
   "execution_count": null,
   "id": "d0ab80ae",
   "metadata": {},
   "outputs": [],
   "source": [
    "Ans: Four of the most commonly used distance measures in machine learning are as follows:\n",
    "\n",
    "Hamming Distance.\n",
    "Euclidean Distance\n",
    "Manhattan Distance."
   ]
  },
  {
   "cell_type": "code",
   "execution_count": null,
   "id": "39e45df2",
   "metadata": {},
   "outputs": [],
   "source": [
    "9. State difference between Euclidean and Manhattan distances ?"
   ]
  },
  {
   "cell_type": "code",
   "execution_count": null,
   "id": "dbc2978c",
   "metadata": {},
   "outputs": [],
   "source": [
    "Ans: Euclidean & Hamming distances are used to measure similarity or dissimilarity between two sequences.\n",
    "    Euclidean distance is extensively applied in analysis of convolutional codes and Trellis codes.\n",
    "\n",
    "Hamming distance is frequently encountered in the analysis of block codes."
   ]
  },
  {
   "cell_type": "code",
   "execution_count": null,
   "id": "b44f563d",
   "metadata": {},
   "outputs": [],
   "source": [
    "10. Distinguish between feature transformation and feature selection ?"
   ]
  },
  {
   "cell_type": "code",
   "execution_count": null,
   "id": "f3869736",
   "metadata": {},
   "outputs": [],
   "source": [
    "Ans: Feature selection is for filtering irrelevant or redundant features from your dataset. The key difference between\n",
    "    feature selection and extraction is that feature selection keeps a subset of the original features while feature \n",
    "    extraction creates brand new ones."
   ]
  }
 ],
 "metadata": {
  "kernelspec": {
   "display_name": "Python 3 (ipykernel)",
   "language": "python",
   "name": "python3"
  },
  "language_info": {
   "codemirror_mode": {
    "name": "ipython",
    "version": 3
   },
   "file_extension": ".py",
   "mimetype": "text/x-python",
   "name": "python",
   "nbconvert_exporter": "python",
   "pygments_lexer": "ipython3",
   "version": "3.9.12"
  }
 },
 "nbformat": 4,
 "nbformat_minor": 5
}
