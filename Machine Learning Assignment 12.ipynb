{
 "cells": [
  {
   "cell_type": "markdown",
   "id": "675b95e8",
   "metadata": {},
   "source": [
    "# Machine Learning Assignment 12"
   ]
  },
  {
   "cell_type": "code",
   "execution_count": null,
   "id": "14161475",
   "metadata": {},
   "outputs": [],
   "source": [
    "1. What is prior probability ? Give an example ?"
   ]
  },
  {
   "cell_type": "code",
   "execution_count": null,
   "id": "56ef5740",
   "metadata": {},
   "outputs": [],
   "source": [
    "Ans: Prior probability shows the likelihood of an outcome in a given dataset. For example, in the mortgage case, P(Y) \n",
    "    is the default rate on a home mortgage, which is 2%. P(Y|X) is called the conditional probability, which provides \n",
    "    the probability of an outcome given the evidence, that is, when the value of X is known."
   ]
  },
  {
   "cell_type": "code",
   "execution_count": null,
   "id": "f86e6b8c",
   "metadata": {},
   "outputs": [],
   "source": [
    "2. What is posterior probability ? Give an example ?"
   ]
  },
  {
   "cell_type": "code",
   "execution_count": null,
   "id": "9216dec4",
   "metadata": {},
   "outputs": [],
   "source": [
    "Ans:: Posterior probability is a revised probability that takes into account new available information. For example,\n",
    "        let there be two urns, urn A having 5 black balls and 10 red balls and urn B having 10 black balls and 5 red balls."
   ]
  },
  {
   "cell_type": "code",
   "execution_count": null,
   "id": "ebfab66b",
   "metadata": {},
   "outputs": [],
   "source": [
    "3. What is likelihood probability ? Give an example ?"
   ]
  },
  {
   "cell_type": "code",
   "execution_count": null,
   "id": "810183cb",
   "metadata": {},
   "outputs": [],
   "source": [
    "Ans: Likelihood Function in Machine Learning and Data Science is the joint probability distribution(jpd) of the dataset\n",
    "    given as a function of the parameter. Think of it as the probability of obtaining the observed data given the parameter\n",
    "    values."
   ]
  },
  {
   "cell_type": "code",
   "execution_count": null,
   "id": "832059de",
   "metadata": {},
   "outputs": [],
   "source": [
    "4. What is Naïve Bayes classifier ? Why is it named so ?"
   ]
  },
  {
   "cell_type": "code",
   "execution_count": null,
   "id": "668fa03a",
   "metadata": {},
   "outputs": [],
   "source": [
    "Ans: Naive Bayes is a simple and powerful algorithm for predictive modeling. Naive Bayes is called naive because it \n",
    "    assumes that each input variable is independent. This is a strong assumption and unrealistic for real data;\n",
    "    however, the technique is very effective on a large range of complex problems."
   ]
  },
  {
   "cell_type": "code",
   "execution_count": null,
   "id": "fa0f6f18",
   "metadata": {},
   "outputs": [],
   "source": [
    "5. What is optimal Bayes classifier ?"
   ]
  },
  {
   "cell_type": "code",
   "execution_count": null,
   "id": "1b33b35c",
   "metadata": {},
   "outputs": [],
   "source": [
    "Ans: The Bayes Optimal Classifier is a probabilistic model that makes the most probable prediction for a new example.\n",
    "    Bayes Optimal Classifier is a probabilistic model that finds the most probable prediction using the training data\n",
    "    and space of hypotheses to make a prediction for a new data instance."
   ]
  },
  {
   "cell_type": "code",
   "execution_count": null,
   "id": "ddc33755",
   "metadata": {},
   "outputs": [],
   "source": [
    "6. Write any two features of Bayesian learning methods ?"
   ]
  },
  {
   "cell_type": "code",
   "execution_count": null,
   "id": "efc798b3",
   "metadata": {},
   "outputs": [],
   "source": [
    "Ans: A probability distribution over observed data for each possible hypothesis. New instances can be classified by \n",
    "    combining the predictions of multiple hypotheses, weighted by their probabilities."
   ]
  },
  {
   "cell_type": "code",
   "execution_count": null,
   "id": "68da3ea0",
   "metadata": {},
   "outputs": [],
   "source": [
    "7. Define the concept of consistent learners ?"
   ]
  },
  {
   "cell_type": "code",
   "execution_count": null,
   "id": "37e87d59",
   "metadata": {},
   "outputs": [],
   "source": [
    "Ans: Consistent Learners: A learner L using a hypothesis H and training data D is said to be a consistent learner if it\n",
    "        always outputs a hypothesis with zero error on D whenever H contains such a hypothesis. • By definition,\n",
    "        a consistent learner must produce a hypothesis in the version space for H given D."
   ]
  },
  {
   "cell_type": "code",
   "execution_count": null,
   "id": "360c6bb6",
   "metadata": {},
   "outputs": [],
   "source": [
    "8. Write any two strengths of Bayes classifier ?"
   ]
  },
  {
   "cell_type": "code",
   "execution_count": null,
   "id": "30628ec1",
   "metadata": {},
   "outputs": [],
   "source": [
    "Ans: This algorithm works quickly and can save a lot of time. Naive Bayes is suitable for solving multi-class\n",
    "    prediction problems. If its assumption of the independence of features holds true, it can perform better than other\n",
    "    models and requires much less training data."
   ]
  },
  {
   "cell_type": "code",
   "execution_count": null,
   "id": "e59378e1",
   "metadata": {},
   "outputs": [],
   "source": [
    "9. Write any two weaknesses of Bayes classifier ?v"
   ]
  },
  {
   "cell_type": "code",
   "execution_count": null,
   "id": "4f9dc50f",
   "metadata": {},
   "outputs": [],
   "source": [
    "Ans: The greatest weakness of the naïve Bayes classifier is that it relies on an often-faulty assumption of equally\n",
    "    important and independent features which results in biased posterior probabilities."
   ]
  },
  {
   "cell_type": "code",
   "execution_count": null,
   "id": "b179e750",
   "metadata": {},
   "outputs": [],
   "source": [
    "10. Explain how Naïve Bayes classifier is used for:\n",
    "Text classification\n",
    "Spam filtering\n",
    "Market sentiment analysis"
   ]
  },
  {
   "cell_type": "code",
   "execution_count": null,
   "id": "c03f7cf1",
   "metadata": {},
   "outputs": [],
   "source": [
    "Ans: Navie Bayes Classifier is used for:\n",
    "\n",
    "Text classification:\n",
    "The Naive Bayes classifier is a simple classifier that classifies based on probabilities of events. It is the applied \n",
    "commonly to text classification. With the training set, we can train a Naive Bayes classifier which we can use to\n",
    "automaticall categorize a new sentence.\n",
    "\n",
    "Spam filtering:\n",
    "Naive Bayes classifiers work by correlating the use of tokens (typically words, or sometimes other things), with spam \n",
    "and non-spam e-mails and then using Bayes' theorem to calculate a probability that an email is or is not spam. It is\n",
    "one of the oldest ways of doing spam filtering, with roots in the 1990s.\n",
    "\n",
    "Market sentiment analysis:\n",
    "Market Sentiment analysis is a field dedicated to extracting subjective emotions and feelings from text. One common\n",
    "use of sentiment analysis is to figure out if a text expresses negative or positive feelings. Naive Bayes is a popular \n",
    "algorithm for classifying text."
   ]
  }
 ],
 "metadata": {
  "kernelspec": {
   "display_name": "Python 3 (ipykernel)",
   "language": "python",
   "name": "python3"
  },
  "language_info": {
   "codemirror_mode": {
    "name": "ipython",
    "version": 3
   },
   "file_extension": ".py",
   "mimetype": "text/x-python",
   "name": "python",
   "nbconvert_exporter": "python",
   "pygments_lexer": "ipython3",
   "version": "3.9.12"
  }
 },
 "nbformat": 4,
 "nbformat_minor": 5
}
