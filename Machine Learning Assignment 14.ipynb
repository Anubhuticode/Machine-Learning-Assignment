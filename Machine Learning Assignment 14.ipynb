{
 "cells": [
  {
   "cell_type": "markdown",
   "id": "033d0761",
   "metadata": {},
   "source": [
    "# Machine Learning Assignment 14"
   ]
  },
  {
   "cell_type": "code",
   "execution_count": null,
   "id": "ffdb93ca",
   "metadata": {},
   "outputs": [],
   "source": [
    "1. What is the concept of supervised learning? What is the significance of the name ?"
   ]
  },
  {
   "cell_type": "code",
   "execution_count": null,
   "id": "b367fa94",
   "metadata": {},
   "outputs": [],
   "source": [
    "Ans: Supervised learning, also known as supervised machine learning, is a subcategory of machine learning and artificial\n",
    "    intelligence. It is defined by its use of labeled datasets to train algorithms that to classify data or predict \n",
    "    outcomes accurately."
   ]
  },
  {
   "cell_type": "code",
   "execution_count": null,
   "id": "0d9b935f",
   "metadata": {},
   "outputs": [],
   "source": [
    "2. In the hospital sector, offer an example of supervised learning ?"
   ]
  },
  {
   "cell_type": "code",
   "execution_count": null,
   "id": "0dd909a2",
   "metadata": {},
   "outputs": [],
   "source": [
    "Ans: Supervised learning uses a training set to teach models to yield the desired output. This training dataset includes \n",
    "    inputs and correct outputs, which allow the model to learn over time. The algorithm measures its accuracy through the\n",
    "    loss function, adjusting until the error has been sufficiently minimized."
   ]
  },
  {
   "cell_type": "code",
   "execution_count": null,
   "id": "596d25d7",
   "metadata": {},
   "outputs": [],
   "source": [
    "3. Give three supervised learning examples ?"
   ]
  },
  {
   "cell_type": "code",
   "execution_count": null,
   "id": "4a3b5fc6",
   "metadata": {},
   "outputs": [],
   "source": [
    "Ans: Example of Supervised Learning Algorithms are:\n",
    "\n",
    "Linear Regression.\n",
    "Nearest Neighbor.\n",
    "Gaussian Naive Bayes.\n",
    "Decision Trees.\n",
    "Support Vector Machine (SVM)\n",
    "Random Forest."
   ]
  },
  {
   "cell_type": "code",
   "execution_count": null,
   "id": "d3c2f0bc",
   "metadata": {},
   "outputs": [],
   "source": [
    "4. In supervised learning, what are classification and regression ?"
   ]
  },
  {
   "cell_type": "code",
   "execution_count": null,
   "id": "e69d8894",
   "metadata": {},
   "outputs": [],
   "source": [
    "Ans: Fundamentally, classification is about predicting a label and regression is about predicting a quantity.\n",
    "    That classification is the problem of predicting a discrete class label output for an example. That regression is\n",
    "    the problem of predicting a continuous quantity output for an example."
   ]
  },
  {
   "cell_type": "code",
   "execution_count": null,
   "id": "4e7c94a2",
   "metadata": {},
   "outputs": [],
   "source": [
    "5. Give some popular classification algorithms as examples ?"
   ]
  },
  {
   "cell_type": "code",
   "execution_count": null,
   "id": "ddb43a95",
   "metadata": {},
   "outputs": [],
   "source": [
    "Ans: Popular algorithms that can be used for multi-class classification include:\n",
    "\n",
    "k-Nearest Neighbors\n",
    "Decision Trees.\n",
    "Naive Bayes"
   ]
  },
  {
   "cell_type": "code",
   "execution_count": null,
   "id": "a9b03298",
   "metadata": {},
   "outputs": [],
   "source": [
    "6. Briefly describe the SVM model ?"
   ]
  },
  {
   "cell_type": "code",
   "execution_count": null,
   "id": "4bbefc3b",
   "metadata": {},
   "outputs": [],
   "source": [
    "Ans: A support vector machine (SVM) is a supervised machine learning model that uses classification algorithms for \n",
    "    two-group classification problems. After giving an SVM model sets of labeled training data for each category, \n",
    "    they're able to categorize new text."
   ]
  },
  {
   "cell_type": "code",
   "execution_count": null,
   "id": "8557f672",
   "metadata": {},
   "outputs": [],
   "source": [
    "7. In SVM, what is the cost of misclassification ?"
   ]
  },
  {
   "cell_type": "code",
   "execution_count": null,
   "id": "9f15a3f0",
   "metadata": {},
   "outputs": [],
   "source": [
    "Ans: In cost-sensitive learning instead of each instance being either correctly or incorrectly classified, each class\n",
    "    (or instance) is given a misclassification cost. Thus, instead of trying to optimize the accuracy, the problem is \n",
    "    then to minimize the total misclassification cost."
   ]
  },
  {
   "cell_type": "code",
   "execution_count": null,
   "id": "1ce83415",
   "metadata": {},
   "outputs": [],
   "source": [
    "8. In the SVM model, define Support Vectors ?"
   ]
  },
  {
   "cell_type": "code",
   "execution_count": null,
   "id": "6b074fde",
   "metadata": {},
   "outputs": [],
   "source": [
    "Ans: Support vectors are data points that are closer to the hyperplane and influence the position and orientation of\n",
    "    the hyperplane. Using these support vectors, we maximize the margin of the classifier. Deleting the support vectors\n",
    "    will change the position of the hyperplane. These are the points that help us build our SVM."
   ]
  },
  {
   "cell_type": "code",
   "execution_count": null,
   "id": "d914475b",
   "metadata": {},
   "outputs": [],
   "source": [
    "9. In the SVM model, define the kernel ?"
   ]
  },
  {
   "cell_type": "code",
   "execution_count": null,
   "id": "2d8980c7",
   "metadata": {},
   "outputs": [],
   "source": [
    "Ans: SVM algorithms use a set of mathematical functions that are defined as the kernel. The function of kernel is to \n",
    "    take data as input and transform it into the required form. These functions can be different types. For example linear,\n",
    "    nonlinear, polynomial, radial basis function (RBF), and sigmoid."
   ]
  },
  {
   "cell_type": "code",
   "execution_count": null,
   "id": "b1843251",
   "metadata": {},
   "outputs": [],
   "source": [
    "10. What are the factors that influence SVM's effectiveness ?"
   ]
  },
  {
   "cell_type": "code",
   "execution_count": null,
   "id": "846efdf9",
   "metadata": {},
   "outputs": [],
   "source": [
    "Ans: SVM or Support Vector Machine is a linear model for classification and regression problems. It can solve linear and\n",
    "    non-linear problems and work well for many practical problems. The idea of SVM is simple: The algorithm creates a line\n",
    "        or a hyperplane which separates the data into classes."
   ]
  },
  {
   "cell_type": "code",
   "execution_count": null,
   "id": "507d341b",
   "metadata": {},
   "outputs": [],
   "source": [
    "11. What are the benefits of using the SVM model ?"
   ]
  },
  {
   "cell_type": "code",
   "execution_count": null,
   "id": "482adf95",
   "metadata": {},
   "outputs": [],
   "source": [
    "Ans: SVM works relatively well when there is a clear margin of separation between classes. SVM is more effective in \n",
    "    high dimensional spaces. SVM is effective in cases where the number of dimensions is greater than the number of\n",
    "    samples.SVM is relatively memory efficient."
   ]
  },
  {
   "cell_type": "code",
   "execution_count": null,
   "id": "f9e452bf",
   "metadata": {},
   "outputs": [],
   "source": [
    "12. What are the drawbacks of using the SVM model ?"
   ]
  },
  {
   "cell_type": "code",
   "execution_count": null,
   "id": "3a49e0d0",
   "metadata": {},
   "outputs": [],
   "source": [
    "Ans: SVM algorithm is not suitable for large data sets. SVM does not perform very well when the data set has more noise\n",
    "    i.e. target classes are overlapping. In cases where the number of features for each data point exceeds the number of\n",
    "    training data samples, the SVM will underperform."
   ]
  },
  {
   "cell_type": "code",
   "execution_count": null,
   "id": "5ca0c58d",
   "metadata": {},
   "outputs": [],
   "source": [
    "13. Notes should be written on\n",
    "The kNN algorithm has a validation flaw.\n",
    "In the kNN algorithm, the k value is chosen.\n",
    "A decision tree with inductive bias"
   ]
  },
  {
   "cell_type": "code",
   "execution_count": null,
   "id": "5dbf27fa",
   "metadata": {},
   "outputs": [],
   "source": [
    "Ans: The Short notes on below topics is:\n",
    "\n",
    "The kNN algorithm has a validation flaw.\n",
    "The relatively low accuracy of kNN is caused by several factors. One of them is that every characteristic of the\n",
    "method has the same result on calculating distance. The solution of this problem is to give weight to each data \n",
    "characteristic.\n",
    "\n",
    "In the kNN algorithm, the k value is chosen.\n",
    "The optimal K value usually found is the square root of N, where N is the total number of samples. Use an error plot or \n",
    "accuracy plot to find the most favorable K value. KNN performs well with multi-label classes, but you must be aware of \n",
    "the outliers.\n",
    "\n",
    "A decision tree with inductive bias\n",
    "Shorter trees are preferred over longer ones. Trees that place high information gain attributes close to the root are \n",
    "preferred over those that do not."
   ]
  },
  {
   "cell_type": "code",
   "execution_count": null,
   "id": "142d3ba6",
   "metadata": {},
   "outputs": [],
   "source": [
    "14. What are some of the benefits of the kNN algorithm ?"
   ]
  },
  {
   "cell_type": "code",
   "execution_count": null,
   "id": "a62510f8",
   "metadata": {},
   "outputs": [],
   "source": [
    "Ans: Some Advantages of KNN are:\n",
    "\n",
    "Quick calculation time.\n",
    "Simple algorithm – to interpret.\n",
    "Versatile – useful for regression and classification.\n",
    "High accuracy – you do not need to compare with better-supervised learning models."
   ]
  },
  {
   "cell_type": "code",
   "execution_count": null,
   "id": "6a7f2a78",
   "metadata": {},
   "outputs": [],
   "source": [
    "15. What are some of the kNN algorithm's drawbacks ?"
   ]
  },
  {
   "cell_type": "code",
   "execution_count": null,
   "id": "3fed64dd",
   "metadata": {},
   "outputs": [],
   "source": [
    "Ans: Some Disadvantages of KNN are:\n",
    "\n",
    "Accuracy depends on the quality of the data.\n",
    "With large data, the prediction stage might be slow.\n",
    "Sensitive to the scale of the data and irrelevant features.\n",
    "Require high memory – need to store all of the training data.\n",
    "Given that it stores all of the training, it can be computationally expensive."
   ]
  },
  {
   "cell_type": "code",
   "execution_count": null,
   "id": "5e525c39",
   "metadata": {},
   "outputs": [],
   "source": [
    "16. Explain the decision tree algorithm in a few words ?"
   ]
  },
  {
   "cell_type": "code",
   "execution_count": null,
   "id": "a88e2646",
   "metadata": {},
   "outputs": [],
   "source": [
    "Ans: A decision tree is a graphical representation of all the possible solutions to a decision based on certain \n",
    "    conditions. Tree models where the target variable can take a finite set of values are called classification trees \n",
    "    and target variable can take continuous values (numbers) are called regression trees."
   ]
  },
  {
   "cell_type": "code",
   "execution_count": null,
   "id": "550be92d",
   "metadata": {},
   "outputs": [],
   "source": [
    "17. What is the difference between a node and a leaf in a decision tree ?"
   ]
  },
  {
   "cell_type": "code",
   "execution_count": null,
   "id": "0066e4f4",
   "metadata": {},
   "outputs": [],
   "source": [
    "Ans: A decision tree is a flowchart-like structure in which each internal node represents a \"test\" on an attribute \n",
    "    (e.g. whether a coin flip comes up heads or tails), each branch represents the outcome of the test, and each leaf\n",
    "    node represents a class label (decision taken after computing all attributes)."
   ]
  },
  {
   "cell_type": "code",
   "execution_count": null,
   "id": "1595f9a6",
   "metadata": {},
   "outputs": [],
   "source": [
    "18. What is a decision tree's entropy ?"
   ]
  },
  {
   "cell_type": "code",
   "execution_count": null,
   "id": "4c8beb41",
   "metadata": {},
   "outputs": [],
   "source": [
    "Ans: Entropy helps us to build an appropriate decision tree for selecting the best splitter. Entropy can be defined as a\n",
    "    measure of the purity of the sub split. Entropy always lies between 0 to 1. The entropy of any split can be calculate\n",
    "    by this formula."
   ]
  },
  {
   "cell_type": "code",
   "execution_count": null,
   "id": "b6bcb001",
   "metadata": {},
   "outputs": [],
   "source": [
    "19. In a decision tree, define knowledge gain ?"
   ]
  },
  {
   "cell_type": "code",
   "execution_count": null,
   "id": "2c8f0967",
   "metadata": {},
   "outputs": [],
   "source": [
    "Ans: Information gain is the reduction in entropy or surprise by transforming a dataset and is often used in training \n",
    "    decision trees.Information gain is calculated by comparing the entropy of the dataset before and after a \n",
    "    transformation."
   ]
  },
  {
   "cell_type": "code",
   "execution_count": null,
   "id": "0e7adadc",
   "metadata": {},
   "outputs": [],
   "source": [
    "20. Choose three advantages of the decision tree approach and write them down ?"
   ]
  },
  {
   "cell_type": "code",
   "execution_count": null,
   "id": "d37736b5",
   "metadata": {},
   "outputs": [],
   "source": [
    "Ans: Advantages of Decision Trees :\n",
    "\n",
    "Easy to read and interpret. One of the advantages of decision trees is that their outputs are easy to read and\n",
    "interpret without requiring statistical knowledge.\n",
    "Easy to prepare.\n",
    "Less data cleaning required."
   ]
  },
  {
   "cell_type": "code",
   "execution_count": null,
   "id": "162da465",
   "metadata": {},
   "outputs": [],
   "source": [
    "21. Make a list of three flaws in the decision tree process ?"
   ]
  },
  {
   "cell_type": "code",
   "execution_count": null,
   "id": "d10eb8f5",
   "metadata": {},
   "outputs": [],
   "source": [
    "Ans: Issues in Decision Tree Learning :\n",
    "\n",
    "Overfitting the data.\n",
    "Guarding against bad attribute choices.\n",
    "Handling continuous valued attributes.\n",
    "Handling missing attribute values.\n",
    "Handling attributes with differing costs."
   ]
  },
  {
   "cell_type": "code",
   "execution_count": null,
   "id": "3eb63406",
   "metadata": {},
   "outputs": [],
   "source": [
    "22. Briefly describe the random forest model ?"
   ]
  },
  {
   "cell_type": "code",
   "execution_count": null,
   "id": "366554c9",
   "metadata": {},
   "outputs": [],
   "source": [
    "Ans: The random forest is a classification algorithm consisting of many decisions trees. It uses bagging and feature\n",
    "    randomness when building each individual tree to try to create an uncorrelated forest of trees whose prediction by\n",
    "    committee is more accurate than that of any individual tree."
   ]
  },
  {
   "cell_type": "code",
   "execution_count": null,
   "id": "a440236a",
   "metadata": {},
   "outputs": [],
   "source": []
  }
 ],
 "metadata": {
  "kernelspec": {
   "display_name": "Python 3 (ipykernel)",
   "language": "python",
   "name": "python3"
  },
  "language_info": {
   "codemirror_mode": {
    "name": "ipython",
    "version": 3
   },
   "file_extension": ".py",
   "mimetype": "text/x-python",
   "name": "python",
   "nbconvert_exporter": "python",
   "pygments_lexer": "ipython3",
   "version": "3.9.12"
  }
 },
 "nbformat": 4,
 "nbformat_minor": 5
}
