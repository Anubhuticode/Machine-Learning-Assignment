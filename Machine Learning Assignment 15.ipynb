{
 "cells": [
  {
   "cell_type": "markdown",
   "id": "b9ed2925",
   "metadata": {},
   "source": [
    "# Machine Learning Assignment 15"
   ]
  },
  {
   "cell_type": "code",
   "execution_count": null,
   "id": "31ccc022",
   "metadata": {},
   "outputs": [],
   "source": [
    "1. Recognize the differences between supervised, semi-supervised, and unsupervised learning ?"
   ]
  },
  {
   "cell_type": "code",
   "execution_count": null,
   "id": "ae9832eb",
   "metadata": {},
   "outputs": [],
   "source": [
    "Ans: The differences between supervised, semi-supervised, and unsupervised learning are:\n",
    "\n",
    "Supervised learning aims to learn a function that, given a sample of data and desired outputs, approximates a function \n",
    "that maps inputs to outputs.\n",
    "\n",
    "Semi-supervised learning aims to label unlabeled data points using knowledge learned from a small number of labeled\n",
    "data points.\n",
    "\n",
    "Unsupervised learning does not have (or need) any labeled outputs, so its goal is to infer the natural structure present \n",
    "within a set of data points."
   ]
  },
  {
   "cell_type": "code",
   "execution_count": null,
   "id": "e9e287d2",
   "metadata": {},
   "outputs": [],
   "source": [
    "2. Describe in detail any five examples of classification problems ?"
   ]
  },
  {
   "cell_type": "code",
   "execution_count": null,
   "id": "a5f6b469",
   "metadata": {},
   "outputs": [],
   "source": [
    "Ans: 5 Examples of Classification Problems :\n",
    "\n",
    "Logistic regression: Logistic regression is a supervised learning classification algorithm used to predict the probability\n",
    "    of a target variable. ... It is one of the simplest ML algorithms that can be used for various classification problems\n",
    "    such as spam detection, Diabetes prediction, cancer detection etc.\n",
    "\n",
    "Decision trees: Decision Trees are a type of Supervised Machine Learning (that is you explain what the input is and what \n",
    "                                                                          the corresponding output is in the training data)\n",
    "    where the data is continuously split according to a certain parameter. The tree can be explained by two entities, \n",
    "    namely decision nodes and leaves.\n",
    "\n",
    "Random forest: Random forest is a Supervised Machine Learning Algorithm that is used widely in Classification and \n",
    "    Regression problems. It builds decision trees on different samples and takes their majority vote for classification \n",
    "    and\n",
    "    average in case of regression. It performs better results for classification problems.\n",
    "\n",
    "XGBoost: XGBoost is an algorithm that has recently been dominating applied machine learning and Kaggle competitions for \n",
    "    structured or tabular data. XGBoost is an implementation of gradient boosted decision trees designed for speed and \n",
    "    performance.Why XGBoost must be a part of your machine learning toolkit.\n",
    "\n",
    "Light GBM: Light Gradient Boosted Machine, or LightGBM for short, is an open-source library that provides an efficient and \n",
    "    effective implementation of the gradient boosting algorithm."
   ]
  },
  {
   "cell_type": "code",
   "execution_count": null,
   "id": "f6f0ae3c",
   "metadata": {},
   "outputs": [],
   "source": [
    "3. Describe each phase of the classification process in detail ?"
   ]
  },
  {
   "cell_type": "code",
   "execution_count": null,
   "id": "566760ea",
   "metadata": {},
   "outputs": [],
   "source": [
    "Ans: Process of classification consists of two phases :\n",
    "\n",
    "Construction of the classifier\n",
    "Usage of the classifier.\n",
    "A classifier in machine learning is an algorithm that automatically orders or categorizes data into one or more of a \n",
    "set of “classes.” One of the most common examples is an email classifier that scans emails to filter them by class label:\n",
    "    Spam or Not Spam.\n",
    "\n",
    "The main goal of the Classification algorithm is to identify the category of a given dataset, and these algorithms are\n",
    "mainly used to predict the output for the categorical data. Multi-class Classifier: If a classification problem has more\n",
    "    than two outcomes, then it is called as Multi-class Classifier."
   ]
  },
  {
   "cell_type": "code",
   "execution_count": null,
   "id": "55d6cc63",
   "metadata": {},
   "outputs": [],
   "source": [
    "4. Go through the SVM model in depth using various scenarios ?"
   ]
  },
  {
   "cell_type": "code",
   "execution_count": null,
   "id": "46f0ad4c",
   "metadata": {},
   "outputs": [],
   "source": [
    "Ans: Support Vector Machine (SVM) is a supervised machine learning algorithm that can be used for both classification\n",
    "    or regression challenges.\n",
    "\n",
    "Support Vectors are simply the coordinates of individual observation. The SVM classifier is a frontier that best segregates\n",
    "the two classes (hyper-plane/ line).\n",
    "\n",
    "SVM or Support Vector Machine is a linear model for classification and regression problems. It can solve linear and \n",
    "non-linear problems and work well for many practical problems. The idea of SVM is simple: The algorithm creates a line or\n",
    "    a hyperplane which separates the data into classes."
   ]
  },
  {
   "cell_type": "code",
   "execution_count": null,
   "id": "bfac9bd1",
   "metadata": {},
   "outputs": [],
   "source": [
    "5. What are some of the benefits and drawbacks of SVM ?"
   ]
  },
  {
   "cell_type": "code",
   "execution_count": null,
   "id": "87d73cc1",
   "metadata": {},
   "outputs": [],
   "source": [
    "Ans: The following are some of the benefits and drawbacks of SVM:\n",
    "\n",
    "Benefits:\n",
    "SVM works relatively well when there is a clear margin of separation between classes.\n",
    "SVM is more effective in high dimensional spaces.\n",
    "SVM is effective in cases where the number of dimensions is greater than the number of samples.\n",
    "SVM is relatively memory efficient.\n",
    "Drawbacks:\n",
    "SVM algorithm is not suitable for large data sets.\n",
    "SVM does not perform very well when the data set has more noise i.e. target classes are overlapping.\n",
    "In cases where the number of features for each data point exceeds the number of training data samples,the SVM will \n",
    "underperform."
   ]
  },
  {
   "cell_type": "code",
   "execution_count": null,
   "id": "72cb330d",
   "metadata": {},
   "outputs": [],
   "source": [
    "6. Go over the kNN model in depth ?"
   ]
  },
  {
   "cell_type": "code",
   "execution_count": null,
   "id": "f0182457",
   "metadata": {},
   "outputs": [],
   "source": [
    "Ans: kNN is the simplest machine learning algorithm to understand and also to explain. It is a versatile algorithm i.e.\n",
    "    useful for both classification and regression. It has one big advantage is that kNN ha no pre assumption about the\n",
    "    data. Let the data speak for itself.\n",
    "\n",
    "The abbreviation KNN stands for K-Nearest Neighbour. It is a supervised machine learning algorithm. The algorithm can \n",
    "be used to solve both classification and regression problem statements. The number of nearest neighbours to a new unknown\n",
    "variable that has to be predicted or classified is denoted by the symbol 'K'."
   ]
  },
  {
   "cell_type": "code",
   "execution_count": null,
   "id": "ea25bbf1",
   "metadata": {},
   "outputs": [],
   "source": [
    "7. Discuss the kNN algorithm's error rate and validation error ?"
   ]
  },
  {
   "cell_type": "code",
   "execution_count": null,
   "id": "d3b7a943",
   "metadata": {},
   "outputs": [],
   "source": [
    "Ans: Training error here is the error you'll have when you input your training set to your KNN as test set. Since your test \n",
    "    sample is in the training dataset, it'll choose itself as the closest and never make mistake. For this reason, the \n",
    "    training error will be zero when K = 1, irrespective of the dataset.\n",
    "\n",
    "kNN produces predictions by looking at the k nearest neighbours of a case x to predict its y, so that's fine. \n",
    "In particular, the kNN model basically consists of its training cases - but that's the cross validation procedure \n",
    "doesn't care about at all."
   ]
  },
  {
   "cell_type": "code",
   "execution_count": null,
   "id": "e23ceed8",
   "metadata": {},
   "outputs": [],
   "source": [
    "8. For kNN, talk about how to measure the difference between the test and training results ?"
   ]
  },
  {
   "cell_type": "code",
   "execution_count": null,
   "id": "7bb345ee",
   "metadata": {},
   "outputs": [],
   "source": [
    "Ans: KNN can be used for classification — the output is a class membership (predicts a class — a discrete value).\n",
    "    An object is classified by a majority vote of its neighbors, with the object being assigned to the class most \n",
    "    common among its k nearest neighbors.\n",
    "\n",
    "KNN classifier does not have any specialized training phase as it uses all the training samples for classification \n",
    "and simply stores the results in memory. KNN is a non-parametric algorithm because it does not assume anything about\n",
    "the training data. This makes it useful for problems having non-linear data."
   ]
  },
  {
   "cell_type": "code",
   "execution_count": null,
   "id": "123e0e85",
   "metadata": {},
   "outputs": [],
   "source": [
    "9. Create the kNN algorithm ?"
   ]
  },
  {
   "cell_type": "code",
   "execution_count": null,
   "id": "ec32488e",
   "metadata": {},
   "outputs": [],
   "source": [
    "Ans: The k-nearest neighbor algorithm is imported from the scikit-learn package.\n",
    "\n",
    "Create feature and target variables.\n",
    "Split data into training and test data.\n",
    "Generate a k-NN model using neighbors value.\n",
    "Train or fit the data into the model.\n",
    "Predict the future."
   ]
  },
  {
   "cell_type": "code",
   "execution_count": null,
   "id": "ace445e8",
   "metadata": {},
   "outputs": [],
   "source": [
    "10. What is a decision tree, exactly ? What are the various kinds of nodes? Explain all in depth ?"
   ]
  },
  {
   "cell_type": "code",
   "execution_count": null,
   "id": "2f128957",
   "metadata": {},
   "outputs": [],
   "source": [
    "Ans: A decision tree is a tree-like model that acts as a decision support tool, visually displaying decisions and\n",
    "    their potential outcomes, consequences, and costs. Drawing a decision tree diagram starts from left to right\n",
    "    and consists of burst nodes that split into different paths.\n",
    "\n",
    "There are three different types of nodes: chance nodes, decision nodes, and end nodes. A chance node, represented \n",
    "    by a circle, shows the probabilities of certain results. A decision node, represented by a square, shows a \n",
    "    decision to be made, and an end node shows the final outcome of a decision path."
   ]
  },
  {
   "cell_type": "code",
   "execution_count": null,
   "id": "7e2fe8ee",
   "metadata": {},
   "outputs": [],
   "source": [
    "11. Describe the different ways to scan a decision tree ?"
   ]
  },
  {
   "cell_type": "code",
   "execution_count": null,
   "id": "77b9eb21",
   "metadata": {},
   "outputs": [],
   "source": [
    "Ans: In a decision tree analysis, the decision-maker has usually to proceed through the following six steps:\n",
    "\n",
    "Define the problem in structured terms.\n",
    "Model the decision process.\n",
    "Apply the appropriate probability values and financial data.\n",
    "Solve the decision tree.\n",
    "Perform sensitivity analysis."
   ]
  },
  {
   "cell_type": "code",
   "execution_count": null,
   "id": "c6e151b1",
   "metadata": {},
   "outputs": [],
   "source": [
    "12. Describe in depth the decision tree algorithm ?\n"
   ]
  },
  {
   "cell_type": "markdown",
   "id": "b5f4cb51",
   "metadata": {},
   "source": [
    "Ans: Decision Tree algorithm belongs to the family of supervised learning algorithms. The goal of using a Decision Tree is to create a training model that can use to predict the class or value of the target variable by learning simple decision rules inferred from prior data(training data)."
   ]
  },
  {
   "cell_type": "code",
   "execution_count": null,
   "id": "06c6d033",
   "metadata": {},
   "outputs": [],
   "source": [
    "13. In a decision tree, what is inductive bias? What would you do to stop overfitting ?"
   ]
  },
  {
   "cell_type": "code",
   "execution_count": null,
   "id": "014fb5c3",
   "metadata": {},
   "outputs": [],
   "source": [
    "Ans: The inductive bias (also known as learning bias) of a learning algorithm is the set of assumptions that the learner \n",
    "    uses to predict outputs of given inputs that it has not encountered. The kind of necessary assumptions about the\n",
    "    nature of the target function are subsumed in the phrase inductive bias.\n",
    "\n",
    "Overfitting makes the model relevant to its data set only, and irrelevant to any other data sets. Some of the methods\n",
    "used to prevent overfitting include ensembling, data augmentation, data simplification, and cross-validation."
   ]
  },
  {
   "cell_type": "code",
   "execution_count": null,
   "id": "b91f69e0",
   "metadata": {},
   "outputs": [],
   "source": [
    "14.Explain advantages and disadvantages of using a decision tree ?"
   ]
  },
  {
   "cell_type": "code",
   "execution_count": null,
   "id": "cab1d2a8",
   "metadata": {},
   "outputs": [],
   "source": [
    "Ans: Advantages and Disadvantages of Decision Trees in Machine Learning. Decision Tree is used to solve both \n",
    "    classification and regression problems. But the main drawback of Decision Tree is that it generally leads to \n",
    "    overfitting of the data."
   ]
  },
  {
   "cell_type": "code",
   "execution_count": null,
   "id": "f77d90b3",
   "metadata": {},
   "outputs": [],
   "source": [
    "15. Describe in depth the problems that are suitable for decision tree learning ?"
   ]
  },
  {
   "cell_type": "code",
   "execution_count": null,
   "id": "7118eaf1",
   "metadata": {},
   "outputs": [],
   "source": [
    "Ans: Appropriate Problems for Decision Tree Learning are: Instances are represented by attribute-value pairs.\n",
    "        The target function has discrete output values.\n",
    "\n",
    "Disjunctive descriptions may be required.\n",
    "The training data may contain errors.\n",
    "The training data may contain missing attribute values."
   ]
  },
  {
   "cell_type": "code",
   "execution_count": null,
   "id": "72d0c32d",
   "metadata": {},
   "outputs": [],
   "source": [
    "16. Describe in depth the random forest model. What distinguishes a random forest ?"
   ]
  },
  {
   "cell_type": "code",
   "execution_count": null,
   "id": "7cd55b10",
   "metadata": {},
   "outputs": [],
   "source": [
    "Ans: The random forest is a classification algorithm consisting of many decisions trees. It uses bagging and feature \n",
    "    randomness when building each individual tree to try to create an uncorrelated forest of trees whose prediction by \n",
    "    committee is more accurate than that of any individual tree. The fundamental difference is that in Random forests,\n",
    "    only a subset of features are selected at random out of the total and the best split feature from the subset is used \n",
    "    to split each node in a tree, unlike in bagging where all features are considered for splitting a node."
   ]
  },
  {
   "cell_type": "code",
   "execution_count": null,
   "id": "0c852a15",
   "metadata": {},
   "outputs": [],
   "source": [
    "17. In a random forest, talk about OOB error and variable value ?"
   ]
  },
  {
   "cell_type": "code",
   "execution_count": null,
   "id": "776dc2f7",
   "metadata": {},
   "outputs": [],
   "source": [
    "Ans: The out-of-bag (OOB) error is the average error for each calculated using predictions from the trees that do not \n",
    "    contain in their respective bootstrap sample. There are two measures of importance given for each variable in the \n",
    "    random forest. The first measure is based on how much the accuracy decreases when the variable is excluded.The second\n",
    "    measure is based on the decrease of Gini impurity when a variable is chosen to split a node."
   ]
  }
 ],
 "metadata": {
  "kernelspec": {
   "display_name": "Python 3 (ipykernel)",
   "language": "python",
   "name": "python3"
  },
  "language_info": {
   "codemirror_mode": {
    "name": "ipython",
    "version": 3
   },
   "file_extension": ".py",
   "mimetype": "text/x-python",
   "name": "python",
   "nbconvert_exporter": "python",
   "pygments_lexer": "ipython3",
   "version": "3.9.12"
  }
 },
 "nbformat": 4,
 "nbformat_minor": 5
}
